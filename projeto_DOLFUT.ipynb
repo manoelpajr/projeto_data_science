{
  "nbformat": 4,
  "nbformat_minor": 0,
  "metadata": {
    "colab": {
      "name": "projeto_DOLFUT",
      "provenance": [],
      "authorship_tag": "ABX9TyMt1QS6b0HfQqYUefD6VX2C",
      "include_colab_link": true
    },
    "kernelspec": {
      "name": "python3",
      "display_name": "Python 3"
    }
  },
  "cells": [
    {
      "cell_type": "markdown",
      "metadata": {
        "id": "view-in-github",
        "colab_type": "text"
      },
      "source": [
        "<a href=\"https://colab.research.google.com/github/manoelpajr/projetos_data_science/blob/master/projeto_DOLFUT.ipynb\" target=\"_parent\"><img src=\"https://colab.research.google.com/assets/colab-badge.svg\" alt=\"Open In Colab\"/></a>"
      ]
    },
    {
      "cell_type": "markdown",
      "metadata": {
        "id": "ynlqSVJqvrO4",
        "colab_type": "text"
      },
      "source": [
        "#**Exploração Inicial dos dados referentes ao Dólar Futuro (DOLFUT)**\n",
        "\n",
        "A [B3](http://www.b3.com.br/pt_br/) - Brasil, Bolsa, Balcão - situada na cidade de São Paulo, é uma das principais bolsa de valores do mundo. Nela são negociados contratos de ativos de diversas natureza, como, ações de empresas, *commodities*, juros, câmbio, dentre outros. \n",
        "\n",
        "Nesse rol de ativos negociados encontra-se o *Dólar Futuro*, indentificado pela sigla - **DOLFUT**. Esse ativo tem uma elevada liquidez e são negociados diariamente centenas de milhares de contratos.\n",
        "\n",
        "Muitos utilizam esse ativo como forma de especulação, principalmente os *traders* que operam na modalidade *Day trade*. Porém, pode ser utilizado como forma de proteção cambial, conhecido como *Hedge*, onde, principalmente, empresas exportadoras e importadoras definem um determinado valor que querem pagar no dólar futuramente. \n",
        "\n",
        "Esse ativo tem vencimento mensal, por isso, ao longo do ano, as letras finais de identificação vão mudando. Observem a tabela abaixo.\n",
        "\n",
        "<img alt=\"Tabela_Dolar_Futuro\" width=\"50%\" src=\"https://www.operefuturos.com.br/wp-content/uploads/2019/03/Cod-d%C3%B3lar.png\">\n",
        "\n",
        "Sobre o *Dataset* utilizado nesse trabalho ele foi retirado da plataforma [ProfitChart Pro](https://www.nelogica.com.br/produtos/profit-pro) e contém um conjunto de entradas e variáveis que serão explorados e analisados nesse trabalho.\n",
        "\n",
        "\n"
      ]
    },
    {
      "cell_type": "markdown",
      "metadata": {
        "id": "PHOC0nnCyAFB",
        "colab_type": "text"
      },
      "source": [
        "## **Importação das bibliotecas**\n",
        "\n",
        "Para a exploração e analise dos dados utilizaremos a biblioteca *Pandas*. A seguir faremos a importação da mesma."
      ]
    },
    {
      "cell_type": "code",
      "metadata": {
        "id": "sSjEGxStvmbr",
        "colab_type": "code",
        "colab": {}
      },
      "source": [
        "#importação das bibliotecas\n",
        "\n",
        "import pandas as pd"
      ],
      "execution_count": 2,
      "outputs": []
    },
    {
      "cell_type": "markdown",
      "metadata": {
        "id": "CWhJAgM2yTQ5",
        "colab_type": "text"
      },
      "source": [
        "##**Importação do *dataframe***\n",
        "\n",
        "Como dito anteriormente o banco de dados foi retirado de uma plataforma para pessoas que operam na bolsa de valores chamada - **Profitchart Pro**. Nela, é possível baixar os dados em formato `csv`.\n",
        "\n",
        "Os dados está disponível no repositório do *Github* e pode ser acessado através desse [link](https://raw.githubusercontent.com/manoelpajr/datas_projects_datascience/master/dolar_futuro_diario.csv).\n",
        "\n",
        "Obs.: Nosso *dataset* tem como delimitador o `;` por isso será necessário, no momento da importação, informar qual será o delimitador das colunas."
      ]
    },
    {
      "cell_type": "code",
      "metadata": {
        "id": "7r1e3Oijy9Dw",
        "colab_type": "code",
        "colab": {}
      },
      "source": [
        "#realizando a importação o dataframe\n",
        "\n",
        "df = pd.read_csv(\"https://raw.githubusercontent.com/manoelpajr/datas_projects_datascience/master/dolar_futuro_diario.csv\", sep=\";\")"
      ],
      "execution_count": 3,
      "outputs": []
    },
    {
      "cell_type": "markdown",
      "metadata": {
        "id": "20exm7Yk0GTH",
        "colab_type": "text"
      },
      "source": [
        "##**Verificar o tipo e a dimensão do nosso banco de dados**\n",
        "\n",
        "Após a importação dos dados é importante saber o tipo e a dimensão do nosso banco de dados. Para descobrir essas informações utilizaremos as funções `type` e `shape`."
      ]
    },
    {
      "cell_type": "code",
      "metadata": {
        "id": "mdmZlpks0llp",
        "colab_type": "code",
        "colab": {
          "base_uri": "https://localhost:8080/",
          "height": 34
        },
        "outputId": "06c139e1-9c65-44c0-eef6-6dc54ea27c07"
      },
      "source": [
        "# ver o tipo do banco de dados\n",
        "type(df)"
      ],
      "execution_count": 4,
      "outputs": [
        {
          "output_type": "execute_result",
          "data": {
            "text/plain": [
              "pandas.core.frame.DataFrame"
            ]
          },
          "metadata": {
            "tags": []
          },
          "execution_count": 4
        }
      ]
    },
    {
      "cell_type": "code",
      "metadata": {
        "id": "f4k7MJH50rW3",
        "colab_type": "code",
        "colab": {
          "base_uri": "https://localhost:8080/",
          "height": 34
        },
        "outputId": "aa969385-c851-40d0-c678-dfaf7dc2fd72"
      },
      "source": [
        "# verificar o tipo das colunas\n",
        "type(df['Fechamento'])"
      ],
      "execution_count": 5,
      "outputs": [
        {
          "output_type": "execute_result",
          "data": {
            "text/plain": [
              "pandas.core.series.Series"
            ]
          },
          "metadata": {
            "tags": []
          },
          "execution_count": 5
        }
      ]
    },
    {
      "cell_type": "code",
      "metadata": {
        "id": "uq3cwBn911v8",
        "colab_type": "code",
        "colab": {
          "base_uri": "https://localhost:8080/",
          "height": 34
        },
        "outputId": "a13abf54-b5d5-4361-bb39-26e96124d58c"
      },
      "source": [
        "#verificar as dimensões do banco de dados\n",
        "df.shape"
      ],
      "execution_count": 6,
      "outputs": [
        {
          "output_type": "execute_result",
          "data": {
            "text/plain": [
              "(494, 7)"
            ]
          },
          "metadata": {
            "tags": []
          },
          "execution_count": 6
        }
      ]
    },
    {
      "cell_type": "markdown",
      "metadata": {
        "id": "iTgDj_iR3gc4",
        "colab_type": "text"
      },
      "source": [
        "Verificamos que o nosso banco de dados é um `DataFrame`, que as nossas colunas são `Series` e a dimensão é de 7 colunas e 494 linhas. "
      ]
    },
    {
      "cell_type": "markdown",
      "metadata": {
        "id": "-mt5kxiR3sbo",
        "colab_type": "text"
      },
      "source": [
        "##**Iniciando a observação dos dados**\n",
        "\n",
        "Após levantarmos algumas informações sobre o nosso banco de dados, torna-se importante visualizarmos os dados e como eles estão sendo apresentados em nosso *dataset*. Para termos uma noção inicial, iremos utilizar as funções `head`e `tail`. Essas funções nos permite visualizar as cinco primeiras e últimas linhas do banco de dados, respectivamente.\n",
        "\n",
        "Além disso, é importante verificarmos os nomes das colunas - `columns`, o tipo da variáve de cada coluna - `dtypes` e a existência de valores nulos - `info`. Observem os passos a seguir:"
      ]
    },
    {
      "cell_type": "code",
      "metadata": {
        "id": "HbnCp2Tp32YH",
        "colab_type": "code",
        "colab": {
          "base_uri": "https://localhost:8080/",
          "height": 204
        },
        "outputId": "b54acc53-8618-4444-b8e0-420bc4dd819a"
      },
      "source": [
        "#verificando as cinco primeira linhas\n",
        "df.head()"
      ],
      "execution_count": 7,
      "outputs": [
        {
          "output_type": "execute_result",
          "data": {
            "text/html": [
              "<div>\n",
              "<style scoped>\n",
              "    .dataframe tbody tr th:only-of-type {\n",
              "        vertical-align: middle;\n",
              "    }\n",
              "\n",
              "    .dataframe tbody tr th {\n",
              "        vertical-align: top;\n",
              "    }\n",
              "\n",
              "    .dataframe thead th {\n",
              "        text-align: right;\n",
              "    }\n",
              "</style>\n",
              "<table border=\"1\" class=\"dataframe\">\n",
              "  <thead>\n",
              "    <tr style=\"text-align: right;\">\n",
              "      <th></th>\n",
              "      <th>Data</th>\n",
              "      <th>Abertura</th>\n",
              "      <th>Maximo</th>\n",
              "      <th>Minimo</th>\n",
              "      <th>Fechamento</th>\n",
              "      <th>Volume</th>\n",
              "      <th>Quantidade</th>\n",
              "    </tr>\n",
              "  </thead>\n",
              "  <tbody>\n",
              "    <tr>\n",
              "      <th>0</th>\n",
              "      <td>01/07/2020</td>\n",
              "      <td>5.472,50</td>\n",
              "      <td>5.482,00</td>\n",
              "      <td>5.305,50</td>\n",
              "      <td>5.324,50</td>\n",
              "      <td>75482557375,00</td>\n",
              "      <td>281.190</td>\n",
              "    </tr>\n",
              "    <tr>\n",
              "      <th>1</th>\n",
              "      <td>30/06/2020</td>\n",
              "      <td>5.430,00</td>\n",
              "      <td>5.513,50</td>\n",
              "      <td>5.410,50</td>\n",
              "      <td>5.463,00</td>\n",
              "      <td>89629807125,00</td>\n",
              "      <td>327.865</td>\n",
              "    </tr>\n",
              "    <tr>\n",
              "      <th>2</th>\n",
              "      <td>29/06/2020</td>\n",
              "      <td>5.457,98</td>\n",
              "      <td>5.470,98</td>\n",
              "      <td>5.388,01</td>\n",
              "      <td>5.407,00</td>\n",
              "      <td>73502699375,00</td>\n",
              "      <td>270.445</td>\n",
              "    </tr>\n",
              "    <tr>\n",
              "      <th>3</th>\n",
              "      <td>26/06/2020</td>\n",
              "      <td>5.379,51</td>\n",
              "      <td>5.491,47</td>\n",
              "      <td>5.366,52</td>\n",
              "      <td>5.482,97</td>\n",
              "      <td>91547204625,00</td>\n",
              "      <td>335.750</td>\n",
              "    </tr>\n",
              "    <tr>\n",
              "      <th>4</th>\n",
              "      <td>25/06/2020</td>\n",
              "      <td>5.380,01</td>\n",
              "      <td>5.386,01</td>\n",
              "      <td>5.266,05</td>\n",
              "      <td>5.354,52</td>\n",
              "      <td>92693603500,00</td>\n",
              "      <td>347.475</td>\n",
              "    </tr>\n",
              "  </tbody>\n",
              "</table>\n",
              "</div>"
            ],
            "text/plain": [
              "         Data  Abertura    Maximo  ... Fechamento          Volume Quantidade\n",
              "0  01/07/2020  5.472,50  5.482,00  ...   5.324,50  75482557375,00    281.190\n",
              "1  30/06/2020  5.430,00  5.513,50  ...   5.463,00  89629807125,00    327.865\n",
              "2  29/06/2020  5.457,98  5.470,98  ...   5.407,00  73502699375,00    270.445\n",
              "3  26/06/2020  5.379,51  5.491,47  ...   5.482,97  91547204625,00    335.750\n",
              "4  25/06/2020  5.380,01  5.386,01  ...   5.354,52  92693603500,00    347.475\n",
              "\n",
              "[5 rows x 7 columns]"
            ]
          },
          "metadata": {
            "tags": []
          },
          "execution_count": 7
        }
      ]
    },
    {
      "cell_type": "code",
      "metadata": {
        "id": "EfO1oUqF386-",
        "colab_type": "code",
        "colab": {
          "base_uri": "https://localhost:8080/",
          "height": 204
        },
        "outputId": "592b525d-bf52-40a7-807f-1c42a3438c69"
      },
      "source": [
        "#verificando as cinco últimas linhas\n",
        "df.tail()"
      ],
      "execution_count": 8,
      "outputs": [
        {
          "output_type": "execute_result",
          "data": {
            "text/html": [
              "<div>\n",
              "<style scoped>\n",
              "    .dataframe tbody tr th:only-of-type {\n",
              "        vertical-align: middle;\n",
              "    }\n",
              "\n",
              "    .dataframe tbody tr th {\n",
              "        vertical-align: top;\n",
              "    }\n",
              "\n",
              "    .dataframe thead th {\n",
              "        text-align: right;\n",
              "    }\n",
              "</style>\n",
              "<table border=\"1\" class=\"dataframe\">\n",
              "  <thead>\n",
              "    <tr style=\"text-align: right;\">\n",
              "      <th></th>\n",
              "      <th>Data</th>\n",
              "      <th>Abertura</th>\n",
              "      <th>Maximo</th>\n",
              "      <th>Minimo</th>\n",
              "      <th>Fechamento</th>\n",
              "      <th>Volume</th>\n",
              "      <th>Quantidade</th>\n",
              "    </tr>\n",
              "  </thead>\n",
              "  <tbody>\n",
              "    <tr>\n",
              "      <th>489</th>\n",
              "      <td>06/07/2018</td>\n",
              "      <td>4.230,47</td>\n",
              "      <td>4.241,17</td>\n",
              "      <td>4.141,65</td>\n",
              "      <td>4.145,39</td>\n",
              "      <td>57975513125,00</td>\n",
              "      <td>295.260</td>\n",
              "    </tr>\n",
              "    <tr>\n",
              "      <th>490</th>\n",
              "      <td>05/07/2018</td>\n",
              "      <td>4.181,24</td>\n",
              "      <td>4.229,94</td>\n",
              "      <td>4.170,01</td>\n",
              "      <td>4.219,77</td>\n",
              "      <td>55301593750,00</td>\n",
              "      <td>281.415</td>\n",
              "    </tr>\n",
              "    <tr>\n",
              "      <th>491</th>\n",
              "      <td>04/07/2018</td>\n",
              "      <td>4.184,99</td>\n",
              "      <td>4.205,86</td>\n",
              "      <td>4.170,01</td>\n",
              "      <td>4.198,90</td>\n",
              "      <td>23385931750,00</td>\n",
              "      <td>119.425</td>\n",
              "    </tr>\n",
              "    <tr>\n",
              "      <th>492</th>\n",
              "      <td>03/07/2018</td>\n",
              "      <td>4.168,40</td>\n",
              "      <td>4.187,13</td>\n",
              "      <td>4.156,09</td>\n",
              "      <td>4.182,85</td>\n",
              "      <td>44688002250,00</td>\n",
              "      <td>229.095</td>\n",
              "    </tr>\n",
              "    <tr>\n",
              "      <th>493</th>\n",
              "      <td>02/07/2018</td>\n",
              "      <td>4.178,57</td>\n",
              "      <td>4.206,39</td>\n",
              "      <td>4.165,19</td>\n",
              "      <td>4.200,51</td>\n",
              "      <td>51178045625,00</td>\n",
              "      <td>261.370</td>\n",
              "    </tr>\n",
              "  </tbody>\n",
              "</table>\n",
              "</div>"
            ],
            "text/plain": [
              "           Data  Abertura    Maximo  ... Fechamento          Volume Quantidade\n",
              "489  06/07/2018  4.230,47  4.241,17  ...   4.145,39  57975513125,00    295.260\n",
              "490  05/07/2018  4.181,24  4.229,94  ...   4.219,77  55301593750,00    281.415\n",
              "491  04/07/2018  4.184,99  4.205,86  ...   4.198,90  23385931750,00    119.425\n",
              "492  03/07/2018  4.168,40  4.187,13  ...   4.182,85  44688002250,00    229.095\n",
              "493  02/07/2018  4.178,57  4.206,39  ...   4.200,51  51178045625,00    261.370\n",
              "\n",
              "[5 rows x 7 columns]"
            ]
          },
          "metadata": {
            "tags": []
          },
          "execution_count": 8
        }
      ]
    },
    {
      "cell_type": "markdown",
      "metadata": {
        "id": "q99PXH6-8kjf",
        "colab_type": "text"
      },
      "source": [
        "Temos uma tabela então com sete colunas diferentes, com diferentes tipos de variáveis.  "
      ]
    },
    {
      "cell_type": "code",
      "metadata": {
        "id": "BNPKk5DH4I8z",
        "colab_type": "code",
        "colab": {
          "base_uri": "https://localhost:8080/",
          "height": 68
        },
        "outputId": "08b54ad2-b56e-4343-d645-6588003c3988"
      },
      "source": [
        "#verificando o nome das colunas\n",
        "df.columns"
      ],
      "execution_count": 9,
      "outputs": [
        {
          "output_type": "execute_result",
          "data": {
            "text/plain": [
              "Index(['Data', 'Abertura', 'Maximo', 'Minimo', 'Fechamento', 'Volume',\n",
              "       'Quantidade'],\n",
              "      dtype='object')"
            ]
          },
          "metadata": {
            "tags": []
          },
          "execution_count": 9
        }
      ]
    },
    {
      "cell_type": "code",
      "metadata": {
        "id": "MdO4xoqU4QZV",
        "colab_type": "code",
        "colab": {
          "base_uri": "https://localhost:8080/",
          "height": 153
        },
        "outputId": "899990c6-9266-4b35-c8d8-db06c42ed063"
      },
      "source": [
        "#verificando o tipo das variáveis de cada coluna\n",
        "df.dtypes"
      ],
      "execution_count": 10,
      "outputs": [
        {
          "output_type": "execute_result",
          "data": {
            "text/plain": [
              "Data           object\n",
              "Abertura       object\n",
              "Maximo         object\n",
              "Minimo         object\n",
              "Fechamento     object\n",
              "Volume         object\n",
              "Quantidade    float64\n",
              "dtype: object"
            ]
          },
          "metadata": {
            "tags": []
          },
          "execution_count": 10
        }
      ]
    },
    {
      "cell_type": "code",
      "metadata": {
        "id": "nmn_ehOO4cWD",
        "colab_type": "code",
        "colab": {
          "base_uri": "https://localhost:8080/",
          "height": 255
        },
        "outputId": "f0ac92a8-8afb-4981-81a2-3ad7c6e256c2"
      },
      "source": [
        "#verificando o tipo das variáveis e quantidade de valores nulos\n",
        "df.info()"
      ],
      "execution_count": 11,
      "outputs": [
        {
          "output_type": "stream",
          "text": [
            "<class 'pandas.core.frame.DataFrame'>\n",
            "RangeIndex: 494 entries, 0 to 493\n",
            "Data columns (total 7 columns):\n",
            " #   Column      Non-Null Count  Dtype  \n",
            "---  ------      --------------  -----  \n",
            " 0   Data        494 non-null    object \n",
            " 1   Abertura    494 non-null    object \n",
            " 2   Maximo      494 non-null    object \n",
            " 3   Minimo      494 non-null    object \n",
            " 4   Fechamento  494 non-null    object \n",
            " 5   Volume      494 non-null    object \n",
            " 6   Quantidade  494 non-null    float64\n",
            "dtypes: float64(1), object(6)\n",
            "memory usage: 27.1+ KB\n"
          ],
          "name": "stdout"
        }
      ]
    },
    {
      "cell_type": "markdown",
      "metadata": {
        "id": "OveNiFrJ9R2J",
        "colab_type": "text"
      },
      "source": [
        "Aqui encontramos algumas informações muito importantes para o andamento do trabalho. Observem que não existem valores nulos (`non-null`) em nenhuma das colunas.\n",
        "\n",
        "Outro ponto imporante é observar que as varíaveis, com exceção da `Quantidade`, são do tipo `Object`. No entanto, possuímos uma variável `Data` e as outras são numéricas; logo, será necessário realizar a conversão dessas variáveis para do tipo `Datetime` para a coluna Data e `Float` para as colunas com valores numéricos. "
      ]
    },
    {
      "cell_type": "markdown",
      "metadata": {
        "id": "8_BNDDWn5Qa8",
        "colab_type": "text"
      },
      "source": [
        "## **Conversão dos dados**\n",
        "\n",
        "A partir da observação dos tipos das variáveis nota-se que alguns dados estão em um formato que dificultará a exploração e analise. Por exemplo, a data é um `Object` e deveria ser do tipo `Date`; a abertura, a máxima, a mínima e o fechamento também estão aparecendo como `Object` e deveriam ser do tipo `float`. \n",
        "\n",
        "Faremos essas alterações utilizando a função `to_datetime` para data e o método `apply` para os dados numéricos."
      ]
    },
    {
      "cell_type": "markdown",
      "metadata": {
        "id": "dPwdDuGa7K0n",
        "colab_type": "text"
      },
      "source": [
        "### Transformando a coluna Data"
      ]
    },
    {
      "cell_type": "code",
      "metadata": {
        "id": "gkBDfbDr557G",
        "colab_type": "code",
        "colab": {
          "base_uri": "https://localhost:8080/",
          "height": 221
        },
        "outputId": "0cb3dfaa-1a20-434d-ab77-aa6cae780fd8"
      },
      "source": [
        "#como está apresentado nossa coluna data\n",
        "df.Data"
      ],
      "execution_count": 12,
      "outputs": [
        {
          "output_type": "execute_result",
          "data": {
            "text/plain": [
              "0      01/07/2020\n",
              "1      30/06/2020\n",
              "2      29/06/2020\n",
              "3      26/06/2020\n",
              "4      25/06/2020\n",
              "          ...    \n",
              "489    06/07/2018\n",
              "490    05/07/2018\n",
              "491    04/07/2018\n",
              "492    03/07/2018\n",
              "493    02/07/2018\n",
              "Name: Data, Length: 494, dtype: object"
            ]
          },
          "metadata": {
            "tags": []
          },
          "execution_count": 12
        }
      ]
    },
    {
      "cell_type": "code",
      "metadata": {
        "id": "CqwajyHP6Bx_",
        "colab_type": "code",
        "colab": {}
      },
      "source": [
        "#realizando a transformação da nossa coluna data para o formato datetime\n",
        "df.Data = pd.to_datetime(df.Data, format=\"%d/%m/%Y\")"
      ],
      "execution_count": 13,
      "outputs": []
    },
    {
      "cell_type": "code",
      "metadata": {
        "id": "TF_mJ2Lo64HR",
        "colab_type": "code",
        "colab": {
          "base_uri": "https://localhost:8080/",
          "height": 221
        },
        "outputId": "31772158-51ec-40b1-86d2-f9f0796b1966"
      },
      "source": [
        "#após a alteração dos valores veremos como ficou a nossa coluna\n",
        "df.Data"
      ],
      "execution_count": 14,
      "outputs": [
        {
          "output_type": "execute_result",
          "data": {
            "text/plain": [
              "0     2020-07-01\n",
              "1     2020-06-30\n",
              "2     2020-06-29\n",
              "3     2020-06-26\n",
              "4     2020-06-25\n",
              "         ...    \n",
              "489   2018-07-06\n",
              "490   2018-07-05\n",
              "491   2018-07-04\n",
              "492   2018-07-03\n",
              "493   2018-07-02\n",
              "Name: Data, Length: 494, dtype: datetime64[ns]"
            ]
          },
          "metadata": {
            "tags": []
          },
          "execution_count": 14
        }
      ]
    },
    {
      "cell_type": "code",
      "metadata": {
        "id": "qxoR619fR4aq",
        "colab_type": "code",
        "colab": {}
      },
      "source": [
        "#transformando a coluna de data em nosso index\n",
        "df.set_index('Data', inplace=True)"
      ],
      "execution_count": 15,
      "outputs": []
    },
    {
      "cell_type": "markdown",
      "metadata": {
        "id": "DrbsjbnR7P_A",
        "colab_type": "text"
      },
      "source": [
        "### Transformando as colunas numéricas\n",
        "\n",
        "As colunas com valores numéricos teve a necessidade de um conjunto maior de transformação por conta da forma como os valores estavam sendo representados. Se observarmos a visualização das primeiras linhas veremos dados com valores assim: '5.230,00'. \n",
        "\n",
        "Para realizar a transformação para `float64` será necessário então transformar esses valores para o padrão americano de numeração e depois transformá-lo no formato desejado.\n",
        "\n",
        "Para isso, utilizaremos os métodos `apply` e `replace`, e a função `lambda`."
      ]
    },
    {
      "cell_type": "code",
      "metadata": {
        "id": "3qzdSlz6Q0fd",
        "colab_type": "code",
        "colab": {}
      },
      "source": [
        "#mudando o formato da coluna Abertura\n",
        "df['Abertura'] = df['Abertura'].apply(lambda x: float(x.replace('.','').replace(',','.')))"
      ],
      "execution_count": 16,
      "outputs": []
    },
    {
      "cell_type": "code",
      "metadata": {
        "id": "swgqMWNDRK0E",
        "colab_type": "code",
        "colab": {}
      },
      "source": [
        "# mudando o formato da coluna Maximo\n",
        "df['Maximo'] = df['Maximo'].apply(lambda x: float(x.replace('.','').replace(',','.')))"
      ],
      "execution_count": 17,
      "outputs": []
    },
    {
      "cell_type": "code",
      "metadata": {
        "id": "S7lFOE56RafW",
        "colab_type": "code",
        "colab": {}
      },
      "source": [
        "#mudando o formato da coluna Minimo\n",
        "df['Minimo'] = df['Minimo'].apply(lambda x: float(x.replace('.','').replace(',','.')))"
      ],
      "execution_count": 18,
      "outputs": []
    },
    {
      "cell_type": "code",
      "metadata": {
        "id": "hb6JscmTRotr",
        "colab_type": "code",
        "colab": {}
      },
      "source": [
        "#mudando o formato da coluna Fechamento\n",
        "df['Fechamento'] = df['Fechamento'].apply(lambda x: float(x.replace('.','').replace(',','.')))"
      ],
      "execution_count": 19,
      "outputs": []
    },
    {
      "cell_type": "code",
      "metadata": {
        "id": "gbTAhcW-R7ea",
        "colab_type": "code",
        "colab": {}
      },
      "source": [
        "#mudando o formato da coluna Volume\n",
        "df['Volume'] = df['Volume'].apply(lambda x: float(x.replace(',','.')))"
      ],
      "execution_count": 20,
      "outputs": []
    },
    {
      "cell_type": "code",
      "metadata": {
        "id": "qgxLU4_DSOt0",
        "colab_type": "code",
        "colab": {
          "base_uri": "https://localhost:8080/",
          "height": 235
        },
        "outputId": "6036c07e-a47c-4367-ace1-59a8f02dd9c9"
      },
      "source": [
        "# agora vamos ver como ficou os nossos dados na tabela\n",
        "df.head()"
      ],
      "execution_count": 21,
      "outputs": [
        {
          "output_type": "execute_result",
          "data": {
            "text/html": [
              "<div>\n",
              "<style scoped>\n",
              "    .dataframe tbody tr th:only-of-type {\n",
              "        vertical-align: middle;\n",
              "    }\n",
              "\n",
              "    .dataframe tbody tr th {\n",
              "        vertical-align: top;\n",
              "    }\n",
              "\n",
              "    .dataframe thead th {\n",
              "        text-align: right;\n",
              "    }\n",
              "</style>\n",
              "<table border=\"1\" class=\"dataframe\">\n",
              "  <thead>\n",
              "    <tr style=\"text-align: right;\">\n",
              "      <th></th>\n",
              "      <th>Abertura</th>\n",
              "      <th>Maximo</th>\n",
              "      <th>Minimo</th>\n",
              "      <th>Fechamento</th>\n",
              "      <th>Volume</th>\n",
              "      <th>Quantidade</th>\n",
              "    </tr>\n",
              "    <tr>\n",
              "      <th>Data</th>\n",
              "      <th></th>\n",
              "      <th></th>\n",
              "      <th></th>\n",
              "      <th></th>\n",
              "      <th></th>\n",
              "      <th></th>\n",
              "    </tr>\n",
              "  </thead>\n",
              "  <tbody>\n",
              "    <tr>\n",
              "      <th>2020-07-01</th>\n",
              "      <td>5472.50</td>\n",
              "      <td>5482.00</td>\n",
              "      <td>5305.50</td>\n",
              "      <td>5324.50</td>\n",
              "      <td>7.548256e+10</td>\n",
              "      <td>281.190</td>\n",
              "    </tr>\n",
              "    <tr>\n",
              "      <th>2020-06-30</th>\n",
              "      <td>5430.00</td>\n",
              "      <td>5513.50</td>\n",
              "      <td>5410.50</td>\n",
              "      <td>5463.00</td>\n",
              "      <td>8.962981e+10</td>\n",
              "      <td>327.865</td>\n",
              "    </tr>\n",
              "    <tr>\n",
              "      <th>2020-06-29</th>\n",
              "      <td>5457.98</td>\n",
              "      <td>5470.98</td>\n",
              "      <td>5388.01</td>\n",
              "      <td>5407.00</td>\n",
              "      <td>7.350270e+10</td>\n",
              "      <td>270.445</td>\n",
              "    </tr>\n",
              "    <tr>\n",
              "      <th>2020-06-26</th>\n",
              "      <td>5379.51</td>\n",
              "      <td>5491.47</td>\n",
              "      <td>5366.52</td>\n",
              "      <td>5482.97</td>\n",
              "      <td>9.154720e+10</td>\n",
              "      <td>335.750</td>\n",
              "    </tr>\n",
              "    <tr>\n",
              "      <th>2020-06-25</th>\n",
              "      <td>5380.01</td>\n",
              "      <td>5386.01</td>\n",
              "      <td>5266.05</td>\n",
              "      <td>5354.52</td>\n",
              "      <td>9.269360e+10</td>\n",
              "      <td>347.475</td>\n",
              "    </tr>\n",
              "  </tbody>\n",
              "</table>\n",
              "</div>"
            ],
            "text/plain": [
              "            Abertura   Maximo   Minimo  Fechamento        Volume  Quantidade\n",
              "Data                                                                        \n",
              "2020-07-01   5472.50  5482.00  5305.50     5324.50  7.548256e+10     281.190\n",
              "2020-06-30   5430.00  5513.50  5410.50     5463.00  8.962981e+10     327.865\n",
              "2020-06-29   5457.98  5470.98  5388.01     5407.00  7.350270e+10     270.445\n",
              "2020-06-26   5379.51  5491.47  5366.52     5482.97  9.154720e+10     335.750\n",
              "2020-06-25   5380.01  5386.01  5266.05     5354.52  9.269360e+10     347.475"
            ]
          },
          "metadata": {
            "tags": []
          },
          "execution_count": 21
        }
      ]
    },
    {
      "cell_type": "code",
      "metadata": {
        "id": "uOAp7KeUS2SE",
        "colab_type": "code",
        "colab": {
          "base_uri": "https://localhost:8080/",
          "height": 136
        },
        "outputId": "9d7e3649-43ec-4396-a75c-eb5fcb52bdf2"
      },
      "source": [
        "#confirmação das alterações para os tipos\n",
        "df.dtypes"
      ],
      "execution_count": 22,
      "outputs": [
        {
          "output_type": "execute_result",
          "data": {
            "text/plain": [
              "Abertura      float64\n",
              "Maximo        float64\n",
              "Minimo        float64\n",
              "Fechamento    float64\n",
              "Volume        float64\n",
              "Quantidade    float64\n",
              "dtype: object"
            ]
          },
          "metadata": {
            "tags": []
          },
          "execution_count": 22
        }
      ]
    },
    {
      "cell_type": "markdown",
      "metadata": {
        "id": "fIlfnjW8-6ao",
        "colab_type": "text"
      },
      "source": [
        "Bingo! Conseguimos então modificar os valores para os formatos corretos. Isso possibilita que possamos explorar e analisar esses dados, a partir de agora, de maneira mais acertiva. "
      ]
    },
    {
      "cell_type": "markdown",
      "metadata": {
        "id": "nYnw8mXO_UjI",
        "colab_type": "text"
      },
      "source": [
        "## Resumo estatístico das nossas variáveis numéricas\n",
        "\n",
        "Uma das maneiras mais simples de se iniciar uma análise exploratória das variáveis numéricas é utilizado o método `describe`. Imediatamente você obtém um resumo contendo algumas das principais informações estatísticas relevantes:\n",
        "\n",
        "   *   **count** - quantidade de entradas válidas\n",
        "   *   **mean** - média dos valores\n",
        "   *   **std** - desvio padrão\n",
        "   *   **min** - menor valor da coluna\n",
        "   *   **25%** - percentil 25\n",
        "   *   **50%** -percential 50 (e mediana)\n",
        "   *   **75%** - percentil 75\n",
        "   *   **max** - maior valor da coluna\n",
        "\n",
        "É possível identificar de cara colunas com valores ausentes e possíveis *outliers*.\n",
        "\n",
        "Para sabermos mais informações sobre os valores encontrados no nosso banco de dados veremos um resumo estatístico das nossas variáveis numéricas usando o método `describe`."
      ]
    },
    {
      "cell_type": "code",
      "metadata": {
        "id": "m21GQFasUqsi",
        "colab_type": "code",
        "colab": {
          "base_uri": "https://localhost:8080/",
          "height": 297
        },
        "outputId": "b60dc720-390e-403e-a8db-dbe1cb8f05dd"
      },
      "source": [
        "# ver o resumo estatístico das variáveis\n",
        "df[['Abertura','Maximo', 'Minimo', 'Fechamento', 'Volume', 'Quantidade']].describe()"
      ],
      "execution_count": 23,
      "outputs": [
        {
          "output_type": "execute_result",
          "data": {
            "text/html": [
              "<div>\n",
              "<style scoped>\n",
              "    .dataframe tbody tr th:only-of-type {\n",
              "        vertical-align: middle;\n",
              "    }\n",
              "\n",
              "    .dataframe tbody tr th {\n",
              "        vertical-align: top;\n",
              "    }\n",
              "\n",
              "    .dataframe thead th {\n",
              "        text-align: right;\n",
              "    }\n",
              "</style>\n",
              "<table border=\"1\" class=\"dataframe\">\n",
              "  <thead>\n",
              "    <tr style=\"text-align: right;\">\n",
              "      <th></th>\n",
              "      <th>Abertura</th>\n",
              "      <th>Maximo</th>\n",
              "      <th>Minimo</th>\n",
              "      <th>Fechamento</th>\n",
              "      <th>Volume</th>\n",
              "      <th>Quantidade</th>\n",
              "    </tr>\n",
              "  </thead>\n",
              "  <tbody>\n",
              "    <tr>\n",
              "      <th>count</th>\n",
              "      <td>494.000000</td>\n",
              "      <td>494.000000</td>\n",
              "      <td>494.000000</td>\n",
              "      <td>494.000000</td>\n",
              "      <td>4.940000e+02</td>\n",
              "      <td>494.000000</td>\n",
              "    </tr>\n",
              "    <tr>\n",
              "      <th>mean</th>\n",
              "      <td>4297.933462</td>\n",
              "      <td>4330.364757</td>\n",
              "      <td>4268.200769</td>\n",
              "      <td>4300.094069</td>\n",
              "      <td>7.671477e+10</td>\n",
              "      <td>367.728917</td>\n",
              "    </tr>\n",
              "    <tr>\n",
              "      <th>std</th>\n",
              "      <td>478.479249</td>\n",
              "      <td>490.848797</td>\n",
              "      <td>466.079956</td>\n",
              "      <td>479.409671</td>\n",
              "      <td>2.073024e+10</td>\n",
              "      <td>91.180761</td>\n",
              "    </tr>\n",
              "    <tr>\n",
              "      <th>min</th>\n",
              "      <td>3784.800000</td>\n",
              "      <td>3857.410000</td>\n",
              "      <td>3781.100000</td>\n",
              "      <td>3818.710000</td>\n",
              "      <td>2.338593e+10</td>\n",
              "      <td>118.285000</td>\n",
              "    </tr>\n",
              "    <tr>\n",
              "      <th>25%</th>\n",
              "      <td>4007.477500</td>\n",
              "      <td>4029.550000</td>\n",
              "      <td>3988.027500</td>\n",
              "      <td>4012.575000</td>\n",
              "      <td>6.329430e+10</td>\n",
              "      <td>307.083750</td>\n",
              "    </tr>\n",
              "    <tr>\n",
              "      <th>50%</th>\n",
              "      <td>4129.810000</td>\n",
              "      <td>4161.600000</td>\n",
              "      <td>4102.205000</td>\n",
              "      <td>4135.320000</td>\n",
              "      <td>7.407728e+10</td>\n",
              "      <td>359.432500</td>\n",
              "    </tr>\n",
              "    <tr>\n",
              "      <th>75%</th>\n",
              "      <td>4298.412500</td>\n",
              "      <td>4324.127500</td>\n",
              "      <td>4270.742500</td>\n",
              "      <td>4301.145000</td>\n",
              "      <td>8.769818e+10</td>\n",
              "      <td>412.435000</td>\n",
              "    </tr>\n",
              "    <tr>\n",
              "      <th>max</th>\n",
              "      <td>5936.770000</td>\n",
              "      <td>5986.340000</td>\n",
              "      <td>5832.610000</td>\n",
              "      <td>5903.720000</td>\n",
              "      <td>1.618007e+11</td>\n",
              "      <td>754.215000</td>\n",
              "    </tr>\n",
              "  </tbody>\n",
              "</table>\n",
              "</div>"
            ],
            "text/plain": [
              "          Abertura       Maximo  ...        Volume  Quantidade\n",
              "count   494.000000   494.000000  ...  4.940000e+02  494.000000\n",
              "mean   4297.933462  4330.364757  ...  7.671477e+10  367.728917\n",
              "std     478.479249   490.848797  ...  2.073024e+10   91.180761\n",
              "min    3784.800000  3857.410000  ...  2.338593e+10  118.285000\n",
              "25%    4007.477500  4029.550000  ...  6.329430e+10  307.083750\n",
              "50%    4129.810000  4161.600000  ...  7.407728e+10  359.432500\n",
              "75%    4298.412500  4324.127500  ...  8.769818e+10  412.435000\n",
              "max    5936.770000  5986.340000  ...  1.618007e+11  754.215000\n",
              "\n",
              "[8 rows x 6 columns]"
            ]
          },
          "metadata": {
            "tags": []
          },
          "execution_count": 23
        }
      ]
    },
    {
      "cell_type": "markdown",
      "metadata": {
        "id": "B9-FjFaRSViR",
        "colab_type": "text"
      },
      "source": [
        "###**Média**\n",
        "\n",
        "Se quisermos obter a média de alguma variável numérica, basta executar o método `mean()`. OU seja, basta selecionar a columa e executar a função."
      ]
    },
    {
      "cell_type": "code",
      "metadata": {
        "id": "LGlD7YX_SYvw",
        "colab_type": "code",
        "colab": {
          "base_uri": "https://localhost:8080/",
          "height": 34
        },
        "outputId": "9074fb86-5e05-4443-f84b-7a1ffc96208d"
      },
      "source": [
        "#ver a média da coluna Abertura\n",
        "df.Abertura.mean()"
      ],
      "execution_count": 24,
      "outputs": [
        {
          "output_type": "execute_result",
          "data": {
            "text/plain": [
              "4297.933461538469"
            ]
          },
          "metadata": {
            "tags": []
          },
          "execution_count": 24
        }
      ]
    },
    {
      "cell_type": "markdown",
      "metadata": {
        "id": "gIDE8gT-ScSA",
        "colab_type": "text"
      },
      "source": [
        "###**Mediana**\n",
        "\n",
        "Mediana é o valor que separa a metade maior e a metade menor de um conjunto de dados. Por exemplo, considere o conjunto `meus_dados = [1,1,2,4,9]`. O valor que está no meio é o número 2. Não confunda com a média, que é a soma de todos os valores dividido pela sua quantidade."
      ]
    },
    {
      "cell_type": "code",
      "metadata": {
        "id": "Wl5ZIfqTSez2",
        "colab_type": "code",
        "colab": {
          "base_uri": "https://localhost:8080/",
          "height": 34
        },
        "outputId": "cf6f4076-9823-4313-d7df-6c5cf05c94e3"
      },
      "source": [
        "#calcular a mediana da Abertura\n",
        "df.Abertura.median()"
      ],
      "execution_count": 25,
      "outputs": [
        {
          "output_type": "execute_result",
          "data": {
            "text/plain": [
              "4129.81"
            ]
          },
          "metadata": {
            "tags": []
          },
          "execution_count": 25
        }
      ]
    },
    {
      "cell_type": "markdown",
      "metadata": {
        "id": "8UOYfS5gSiX7",
        "colab_type": "text"
      },
      "source": [
        "###**Desvio Padrão**\n",
        "\n",
        "Desvio padrão é uma medida de dispersão em torno da média populacional de uma variável.\n",
        "\n",
        "$$SD = \\sqrt{\\frac{1}{n}\\sum_{i=1}^{n}(x_i - \\overline{x}) ^ 2}$$\n",
        "\n",
        "Falando simplicadamente, um número alto do desvio padrão indica que os dados estão bem espalhados em relação a sua média. Já um desvio padrão baixo mostra que os valores estão mais agrupado, mais \"juntos\".\n",
        "\n",
        "Na figura abaixo temos um exemplo de valores altos e baixos para o desvio padrão. Em vermelho os dados estão mais próximos à sua média e em azul estão bem mais espalhados.\n",
        "\n",
        "<img src=\"https://upload.wikimedia.org/wikipedia/commons/thumb/f/f9/Comparison_standard_deviations.svg/400px-Comparison_standard_deviations.svg.png\">\n",
        "\n",
        "Para calcular o desvio padrão de qualquer coluna, basta executar o método `std()` para a variável."
      ]
    },
    {
      "cell_type": "code",
      "metadata": {
        "id": "ktod1G38Slvx",
        "colab_type": "code",
        "colab": {
          "base_uri": "https://localhost:8080/",
          "height": 34
        },
        "outputId": "7f0bcde1-8574-44a0-c8b2-8c1ace3c7c9d"
      },
      "source": [
        "#calculando o desvio padrão para a coluna Abertura\n",
        "df.Abertura.std()"
      ],
      "execution_count": 26,
      "outputs": [
        {
          "output_type": "execute_result",
          "data": {
            "text/plain": [
              "478.47924895600516"
            ]
          },
          "metadata": {
            "tags": []
          },
          "execution_count": 26
        }
      ]
    },
    {
      "cell_type": "markdown",
      "metadata": {
        "id": "ZBbnUH09Spew",
        "colab_type": "text"
      },
      "source": [
        "###**Valores máximo e mínimo**\n",
        "\n",
        "Para calcular o valor máximo, basta executar  o método `max()`, enquanto para o valor mínimo basta executar `min()`."
      ]
    },
    {
      "cell_type": "code",
      "metadata": {
        "id": "KUhYOA2dSr5p",
        "colab_type": "code",
        "colab": {
          "base_uri": "https://localhost:8080/",
          "height": 34
        },
        "outputId": "b0e3a19b-b926-44b3-a007-a58eaaeef33f"
      },
      "source": [
        "#valor maximo\n",
        "df.Abertura.max()"
      ],
      "execution_count": 27,
      "outputs": [
        {
          "output_type": "execute_result",
          "data": {
            "text/plain": [
              "5936.77"
            ]
          },
          "metadata": {
            "tags": []
          },
          "execution_count": 27
        }
      ]
    },
    {
      "cell_type": "code",
      "metadata": {
        "id": "g5pF8FrISuWu",
        "colab_type": "code",
        "colab": {
          "base_uri": "https://localhost:8080/",
          "height": 34
        },
        "outputId": "bfddd0e3-ab7b-4259-cca7-5120a319603b"
      },
      "source": [
        "#valor minimo\n",
        "df.Abertura.min()"
      ],
      "execution_count": 28,
      "outputs": [
        {
          "output_type": "execute_result",
          "data": {
            "text/plain": [
              "3784.8"
            ]
          },
          "metadata": {
            "tags": []
          },
          "execution_count": 28
        }
      ]
    },
    {
      "cell_type": "markdown",
      "metadata": {
        "id": "WFr5KqUnSxii",
        "colab_type": "text"
      },
      "source": [
        "###**Quartis**\n",
        "\n",
        "Os quartis são valores dados a partir do conjunto de observaçoes ordenados em ordem crescente, que dividem a distruibuição em quatro partes iguais. O primeiro Quartil (Q1), é o número que deixa 25% das observações abaixo e 75% acima, enquanto o terceiro Quartil (Q3), deixa 75% das observações abaixo e 25% acima. Já o segundo Quartil (Q2), é a mediana, deixa 50% das observações abaixo e 50% das observações acima. \n",
        "\n",
        "Uma medida de dispersão alternativa ao desvio padrão é a distância ou intervalo interquartil, definida como a diferença entre o terceiro e o primeiro quartil, isto é,\n",
        "\n",
        "*inter_interquartil = Q3 - Q1*\n",
        "\n",
        "Foi desenvolvido no âmbito da estatística a fim de avaliar o grau de espalhamento dos dados (dispersão) e é uma excelente forma de acharmos valores *outliers*.\n",
        "\n",
        "Para visualizarmos os quartis iremos utilizar o método `quantile(q=0.25)` para o primeiro quartil. Para o Q2 utiliza-se `q=0.5` e para o Q3 `q=0.75`."
      ]
    },
    {
      "cell_type": "code",
      "metadata": {
        "id": "-xy9bOG4S4eo",
        "colab_type": "code",
        "colab": {
          "base_uri": "https://localhost:8080/",
          "height": 34
        },
        "outputId": "1ec886ea-b085-4397-b897-f0a3d8dd6a01"
      },
      "source": [
        "#calculando os quartis para a coluna abertura\n",
        "#Q1\n",
        "df.Abertura.quantile(q=0.25)"
      ],
      "execution_count": 29,
      "outputs": [
        {
          "output_type": "execute_result",
          "data": {
            "text/plain": [
              "4007.4775"
            ]
          },
          "metadata": {
            "tags": []
          },
          "execution_count": 29
        }
      ]
    },
    {
      "cell_type": "code",
      "metadata": {
        "id": "-4FDh2FhS6Mx",
        "colab_type": "code",
        "colab": {
          "base_uri": "https://localhost:8080/",
          "height": 34
        },
        "outputId": "7e12265b-42fb-417e-f252-1827b93e2e42"
      },
      "source": [
        "#Q2\n",
        "df.Abertura.quantile(q=0.5)"
      ],
      "execution_count": 30,
      "outputs": [
        {
          "output_type": "execute_result",
          "data": {
            "text/plain": [
              "4129.81"
            ]
          },
          "metadata": {
            "tags": []
          },
          "execution_count": 30
        }
      ]
    },
    {
      "cell_type": "code",
      "metadata": {
        "id": "rPVRajmWS8t0",
        "colab_type": "code",
        "colab": {
          "base_uri": "https://localhost:8080/",
          "height": 34
        },
        "outputId": "c249744f-7930-40b3-faed-503c7d609748"
      },
      "source": [
        "#Q3 \n",
        "df.Abertura.quantile(q=0.75)"
      ],
      "execution_count": 31,
      "outputs": [
        {
          "output_type": "execute_result",
          "data": {
            "text/plain": [
              "4298.412499999999"
            ]
          },
          "metadata": {
            "tags": []
          },
          "execution_count": 31
        }
      ]
    },
    {
      "cell_type": "code",
      "metadata": {
        "id": "zkeozj1kTAsC",
        "colab_type": "code",
        "colab": {
          "base_uri": "https://localhost:8080/",
          "height": 34
        },
        "outputId": "1f1276ef-b30f-44b8-931c-b91c1f9f89d1"
      },
      "source": [
        "#Intervalo interquartil\n",
        "inter_interquartil = df.Abertura.quantile(q=0.75) - df.Abertura.quantile(q=0.25)\n",
        "inter_interquartil"
      ],
      "execution_count": 32,
      "outputs": [
        {
          "output_type": "execute_result",
          "data": {
            "text/plain": [
              "290.9349999999995"
            ]
          },
          "metadata": {
            "tags": []
          },
          "execution_count": 32
        }
      ]
    },
    {
      "cell_type": "markdown",
      "metadata": {
        "id": "R4WdBAeqTEfx",
        "colab_type": "text"
      },
      "source": [
        "##**Visualização dos dados**\n",
        "\n",
        "A partir de agora iremos visualizar nossos dados em alguns tipos de gráficos por meio da biblioteca Pandas."
      ]
    },
    {
      "cell_type": "markdown",
      "metadata": {
        "id": "AftGfE3cTHf2",
        "colab_type": "text"
      },
      "source": [
        "###**Gráfico de Linhas**\n",
        "\n",
        "Vamos supor que você quisesse visualizar como formas as máximas dos valores para do Dólar Futuro.\n",
        "\n",
        "Para isso vamos selecionar a coluna \"Maximo\" e em seguida executar o método `plot()`."
      ]
    },
    {
      "cell_type": "code",
      "metadata": {
        "id": "NVMaGni1TKBQ",
        "colab_type": "code",
        "colab": {
          "base_uri": "https://localhost:8080/",
          "height": 277
        },
        "outputId": "5916c402-c8a4-4e7c-95f9-760b44598408"
      },
      "source": [
        "#visualizar o gráfico de linhas para a coluna Maximo\n",
        "df.Maximo.plot();"
      ],
      "execution_count": 33,
      "outputs": [
        {
          "output_type": "display_data",
          "data": {
            "image/png": "[encoded data removed]",
            "text/plain": [
              "<Figure size 432x288 with 1 Axes>"
            ]
          },
          "metadata": {
            "tags": [],
            "needs_background": "light"
          }
        }
      ]
    },
    {
      "cell_type": "markdown",
      "metadata": {
        "id": "CesRHTtqTNgl",
        "colab_type": "text"
      },
      "source": [
        "###**Histograma**\n",
        "\n",
        "Quando se quer ter uma noção de quantes vezes uma determinada informação aparece no conjunto de dados, plotar o histograma pode ser de grande valor.\n",
        "\n",
        "Histogramas são das umas principais ferramentas estatística para extrair informações sobre frequencia e distribuição dos nossos dados. Ele é conceitualmente bem simples.\n",
        "\n",
        "Vamos plotar o histograma do volume movimentado para o Dólar Futuro - DOLFUT."
      ]
    },
    {
      "cell_type": "code",
      "metadata": {
        "id": "-I-62Uv9TQQi",
        "colab_type": "code",
        "colab": {
          "base_uri": "https://localhost:8080/",
          "height": 278
        },
        "outputId": "a0742e94-1eea-4148-c2e4-8bbf8f19f7b8"
      },
      "source": [
        "#plotar o histograma do volume\n",
        "df.Volume.hist();"
      ],
      "execution_count": 34,
      "outputs": [
        {
          "output_type": "display_data",
          "data": {
            "image/png": "[encoded data removed]",
            "text/plain": [
              "<Figure size 432x288 with 1 Axes>"
            ]
          },
          "metadata": {
            "tags": [],
            "needs_background": "light"
          }
        }
      ]
    },
    {
      "cell_type": "markdown",
      "metadata": {
        "id": "5dIqDxpeTcpx",
        "colab_type": "text"
      },
      "source": [
        "###**Gráfico de dispersão**\n",
        "\n",
        "O gráfico de dispersão é um gráfico ideal para ver a correlação entre duas variáveis quaisquer. Serve não apenas para mostrar quanto uma variável é afetada por outra, mas também para plotar coordenadas geográficas para tem um *awareness*."
      ]
    },
    {
      "cell_type": "code",
      "metadata": {
        "id": "0ajpAifGT0T4",
        "colab_type": "code",
        "colab": {
          "base_uri": "https://localhost:8080/",
          "height": 279
        },
        "outputId": "45cb75a9-03ff-4a8b-824f-e2613ccc5b4f"
      },
      "source": [
        "#visualizando o gráfico de dispersão para as variáveis volume e quantidade\n",
        "df.plot.scatter('Volume', 'Quantidade');"
      ],
      "execution_count": 35,
      "outputs": [
        {
          "output_type": "display_data",
          "data": {
            "image/png": "[encoded data removed]",
            "text/plain": [
              "<Figure size 432x288 with 1 Axes>"
            ]
          },
          "metadata": {
            "tags": [],
            "needs_background": "light"
          }
        }
      ]
    },
    {
      "cell_type": "markdown",
      "metadata": {
        "id": "o7tm_eVGUVuf",
        "colab_type": "text"
      },
      "source": [
        "###**Boxplot**\n",
        "\n",
        "Boxplot é um dos tipos de gráfico que conseguem fornecer o maior número de informações estatísticas de uma vez só.\n",
        "\n",
        "<img alt=\"Boxplot\" width=\"50%\" src=\"https://i0.wp.com/www.abgconsultoria.com.br/blog/wp-content/uploads/boxplot-1-1024x664.png?resize=1024%2C664\">\n",
        "\n",
        "É possível ter em uma imagem os valores máximos, mínimos, quartis e mediana. *Outliers* também são representados como pontos acima do valor máximo ou abaixo do valor mínimo."
      ]
    },
    {
      "cell_type": "code",
      "metadata": {
        "id": "6oFWF1-0VfRZ",
        "colab_type": "code",
        "colab": {
          "base_uri": "https://localhost:8080/",
          "height": 265
        },
        "outputId": "60358280-d36e-4e98-9ab2-305f87d6e49a"
      },
      "source": [
        "#plotar boxplot para os valores máximos do dolar futuro\n",
        "df.Maximo.plot(kind='box');"
      ],
      "execution_count": 36,
      "outputs": [
        {
          "output_type": "display_data",
          "data": {
            "image/png": "[encoded data removed]",
            "text/plain": [
              "<Figure size 432x288 with 1 Axes>"
            ]
          },
          "metadata": {
            "tags": [],
            "needs_background": "light"
          }
        }
      ]
    },
    {
      "cell_type": "code",
      "metadata": {
        "id": "Y48ylXd1Wk-e",
        "colab_type": "code",
        "colab": {
          "base_uri": "https://localhost:8080/",
          "height": 265
        },
        "outputId": "d2cbf75d-c687-4bb0-ebd8-9e5aba206c5a"
      },
      "source": [
        "#plotar boxplot para os valores mínimo do dólar futuro\n",
        "df.Minimo.plot(kind='box');"
      ],
      "execution_count": 37,
      "outputs": [
        {
          "output_type": "display_data",
          "data": {
            "image/png": "[encoded data removed]",
            "text/plain": [
              "<Figure size 432x288 with 1 Axes>"
            ]
          },
          "metadata": {
            "tags": [],
            "needs_background": "light"
          }
        }
      ]
    }
  ]
}