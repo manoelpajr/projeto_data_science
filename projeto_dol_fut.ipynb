{
  "nbformat": 4,
  "nbformat_minor": 0,
  "metadata": {
    "colab": {
      "name": "projeto_dol_fut",
      "provenance": [],
      "authorship_tag": "ABX9TyPdqj1a9D0r1FMadcgoViEY",
      "include_colab_link": true
    },
    "kernelspec": {
      "name": "python3",
      "display_name": "Python 3"
    }
  },
  "cells": [
    {
      "cell_type": "markdown",
      "metadata": {
        "id": "view-in-github",
        "colab_type": "text"
      },
      "source": [
        "<a href=\"https://colab.research.google.com/github/manoelpajr/projeto_data_science/blob/master/projeto_dol_fut.ipynb\" target=\"_parent\"><img src=\"https://colab.research.google.com/assets/colab-badge.svg\" alt=\"Open In Colab\"/></a>"
      ]
    },
    {
      "cell_type": "markdown",
      "metadata": {
        "id": "ynlqSVJqvrO4",
        "colab_type": "text"
      },
      "source": [
        "#**Exploração Inicial dos dados referentes ao do Dólar Futuro (DOLFUT)**\n",
        "\n",
        "A [B3](http://www.b3.com.br/pt_br/) - Brasil, Bolsa, Balcão - situada na cidade de São Paulo, é uma das principais bolsa de valores do mundo. Nela são negociados contratos de ativos de diversas natureza, como, ações de empresas, *commodities*, juros, câmbio, dentre outros. \n",
        "\n",
        "Nesse rol de ativos negociados encontra-se o *Dólar Futuro*, indentificado pela sigla - **DOLFUT**. Esse ativo tem uma elevada liquidez e são negociados diariamente centenas de milhares de contratos.\n",
        "\n",
        "Muitos utilizam esse ativo como forma de especulação, principalmente os *traders* que operam na modalidade *Day trade*. Porém, pode ser utilizado como forma de proteção cambial, conhecido como *Hedge*, onde, principalmente, empresas exportadoras e importadoras definem um determinado valor que querem pagar no dólar futuramente. \n",
        "\n",
        "Esse ativo tem vencimento mensal, por isso, ao longo do ano, as letras finais de identificação vão mudando. Observem a tabela abaixo.\n",
        "\n",
        "<img alt=\"Tabela_Dolar_Futuro\" width=\"50%\" src=\"https://www.operefuturos.com.br/wp-content/uploads/2019/03/Cod-d%C3%B3lar.png\">\n",
        "\n",
        "Sobre o *Dataset* utilizado nesse trabalho ele foi retirado da plataforma [ProfitChart Pro](https://www.nelogica.com.br/produtos/profit-pro) e contém um conjunto de entradas e variáveis que serão explorados e analisados nesse trabalho.\n",
        "\n",
        "\n"
      ]
    },
    {
      "cell_type": "markdown",
      "metadata": {
        "id": "PHOC0nnCyAFB",
        "colab_type": "text"
      },
      "source": [
        "## **Importação das bibliotecas**\n",
        "\n",
        "Para a exploração e analise dos dados utilizaremos a biblioteca *Pandas*. A seguir faremos a importação da mesma."
      ]
    },
    {
      "cell_type": "code",
      "metadata": {
        "id": "sSjEGxStvmbr",
        "colab_type": "code",
        "colab": {}
      },
      "source": [
        "#importação das bibliotecas\n",
        "\n",
        "import pandas as pd"
      ],
      "execution_count": 1,
      "outputs": []
    },
    {
      "cell_type": "markdown",
      "metadata": {
        "id": "CWhJAgM2yTQ5",
        "colab_type": "text"
      },
      "source": [
        "##**Importação do *dataframe***\n",
        "\n",
        "Como dito anteriormente o banco de dados foi retirado de uma plataforma para pessoas que operam na bolsa de valores chamada - **Profitchart Pro**. Nela, é possível baixar os dados em formato `csv`.\n",
        "\n",
        "Os dados está disponível no repositório do *Github* e pode ser acessado através desse [link](https://raw.githubusercontent.com/manoelpajr/dataframes/master/DOLFUT_Diario.csv).\n",
        "\n",
        "Obs.: Nosso *dataset* tem como delimitador o `;` por isso será necessário, no momento da importação, informar qual será o delimitador das colunas."
      ]
    },
    {
      "cell_type": "code",
      "metadata": {
        "id": "7r1e3Oijy9Dw",
        "colab_type": "code",
        "colab": {}
      },
      "source": [
        "#realizando a importação o dataframe\n",
        "\n",
        "df = pd.read_csv(\"https://raw.githubusercontent.com/manoelpajr/dataframes/master/DOLFUT_Diario.csv\", sep=\";\")"
      ],
      "execution_count": 2,
      "outputs": []
    },
    {
      "cell_type": "markdown",
      "metadata": {
        "id": "20exm7Yk0GTH",
        "colab_type": "text"
      },
      "source": [
        "##**Verificar o tipo e a dimensão do nosso banco de dados**\n",
        "\n",
        "Após a importação dos dados é importante saber o tipo e a dimensão do nosso banco de dados. Para descobrir essas informações utilizaremos as funções `type` e `shape`."
      ]
    },
    {
      "cell_type": "code",
      "metadata": {
        "id": "mdmZlpks0llp",
        "colab_type": "code",
        "colab": {
          "base_uri": "https://localhost:8080/",
          "height": 34
        },
        "outputId": "1bf6a3e9-00ab-4cdd-f7e8-a667ef2d150d"
      },
      "source": [
        "# ver o tipo do banco de dados\n",
        "type(df)"
      ],
      "execution_count": 3,
      "outputs": [
        {
          "output_type": "execute_result",
          "data": {
            "text/plain": [
              "pandas.core.frame.DataFrame"
            ]
          },
          "metadata": {
            "tags": []
          },
          "execution_count": 3
        }
      ]
    },
    {
      "cell_type": "code",
      "metadata": {
        "id": "f4k7MJH50rW3",
        "colab_type": "code",
        "colab": {
          "base_uri": "https://localhost:8080/",
          "height": 34
        },
        "outputId": "a31421c5-c2e3-4a11-fefe-4187f4f50a19"
      },
      "source": [
        "# verificar o tipo das colunas\n",
        "type(df['Fechamento'])"
      ],
      "execution_count": 4,
      "outputs": [
        {
          "output_type": "execute_result",
          "data": {
            "text/plain": [
              "pandas.core.series.Series"
            ]
          },
          "metadata": {
            "tags": []
          },
          "execution_count": 4
        }
      ]
    },
    {
      "cell_type": "code",
      "metadata": {
        "id": "uq3cwBn911v8",
        "colab_type": "code",
        "colab": {
          "base_uri": "https://localhost:8080/",
          "height": 34
        },
        "outputId": "93586935-4c78-439e-be1f-8432dd609ade"
      },
      "source": [
        "#verificar as dimensões do banco de dados\n",
        "df.shape"
      ],
      "execution_count": 5,
      "outputs": [
        {
          "output_type": "execute_result",
          "data": {
            "text/plain": [
              "(494, 7)"
            ]
          },
          "metadata": {
            "tags": []
          },
          "execution_count": 5
        }
      ]
    },
    {
      "cell_type": "markdown",
      "metadata": {
        "id": "iTgDj_iR3gc4",
        "colab_type": "text"
      },
      "source": [
        "Verificamos que o nosso banco de dados é um `DataFrame`, que as nossas colunas são `Series` e a dimensão é de 7 colunas e 494 linhas. "
      ]
    },
    {
      "cell_type": "markdown",
      "metadata": {
        "id": "-mt5kxiR3sbo",
        "colab_type": "text"
      },
      "source": [
        "##**Iniciando a observação dos dados**\n",
        "\n",
        "Após levantarmos algumas informações sobre o nosso banco de dados, torna-se importante visualizarmos os dados e como eles estão sendo apresentados em nosso *dataset*. Para termos uma noção inicial, iremos utilizar as funções `head`e `tail`. Essas funções nos permite visualizar as cinco primeiras e últimas linhas do banco de dados, respectivamente.\n",
        "\n",
        "Além disso, é importante verificarmos os nomes das colunas - `columns`, o tipo da variáve de cada coluna - `dtypes` e a existência de valores nulos - `info`. Observem os passos a seguir:"
      ]
    },
    {
      "cell_type": "code",
      "metadata": {
        "id": "HbnCp2Tp32YH",
        "colab_type": "code",
        "colab": {
          "base_uri": "https://localhost:8080/",
          "height": 204
        },
        "outputId": "a334d48d-66d3-4d84-f22f-0f5d46108d77"
      },
      "source": [
        "#verificando as cinco primeira linhas\n",
        "df.head()"
      ],
      "execution_count": 6,
      "outputs": [
        {
          "output_type": "execute_result",
          "data": {
            "text/html": [
              "<div>\n",
              "<style scoped>\n",
              "    .dataframe tbody tr th:only-of-type {\n",
              "        vertical-align: middle;\n",
              "    }\n",
              "\n",
              "    .dataframe tbody tr th {\n",
              "        vertical-align: top;\n",
              "    }\n",
              "\n",
              "    .dataframe thead th {\n",
              "        text-align: right;\n",
              "    }\n",
              "</style>\n",
              "<table border=\"1\" class=\"dataframe\">\n",
              "  <thead>\n",
              "    <tr style=\"text-align: right;\">\n",
              "      <th></th>\n",
              "      <th>Data</th>\n",
              "      <th>Abertura</th>\n",
              "      <th>Maximo</th>\n",
              "      <th>Minimo</th>\n",
              "      <th>Fechamento</th>\n",
              "      <th>Volume</th>\n",
              "      <th>Quantidade</th>\n",
              "    </tr>\n",
              "  </thead>\n",
              "  <tbody>\n",
              "    <tr>\n",
              "      <th>0</th>\n",
              "      <td>01/07/2020</td>\n",
              "      <td>5.472,50</td>\n",
              "      <td>5.482,00</td>\n",
              "      <td>5.305,50</td>\n",
              "      <td>5.324,50</td>\n",
              "      <td>75482557375,00</td>\n",
              "      <td>281.190</td>\n",
              "    </tr>\n",
              "    <tr>\n",
              "      <th>1</th>\n",
              "      <td>30/06/2020</td>\n",
              "      <td>5.430,00</td>\n",
              "      <td>5.513,50</td>\n",
              "      <td>5.410,50</td>\n",
              "      <td>5.463,00</td>\n",
              "      <td>89629807125,00</td>\n",
              "      <td>327.865</td>\n",
              "    </tr>\n",
              "    <tr>\n",
              "      <th>2</th>\n",
              "      <td>29/06/2020</td>\n",
              "      <td>5.457,98</td>\n",
              "      <td>5.470,98</td>\n",
              "      <td>5.388,01</td>\n",
              "      <td>5.407,00</td>\n",
              "      <td>73502699375,00</td>\n",
              "      <td>270.445</td>\n",
              "    </tr>\n",
              "    <tr>\n",
              "      <th>3</th>\n",
              "      <td>26/06/2020</td>\n",
              "      <td>5.379,51</td>\n",
              "      <td>5.491,47</td>\n",
              "      <td>5.366,52</td>\n",
              "      <td>5.482,97</td>\n",
              "      <td>91547204625,00</td>\n",
              "      <td>335.750</td>\n",
              "    </tr>\n",
              "    <tr>\n",
              "      <th>4</th>\n",
              "      <td>25/06/2020</td>\n",
              "      <td>5.380,01</td>\n",
              "      <td>5.386,01</td>\n",
              "      <td>5.266,05</td>\n",
              "      <td>5.354,52</td>\n",
              "      <td>92693603500,00</td>\n",
              "      <td>347.475</td>\n",
              "    </tr>\n",
              "  </tbody>\n",
              "</table>\n",
              "</div>"
            ],
            "text/plain": [
              "         Data  Abertura    Maximo  ... Fechamento          Volume Quantidade\n",
              "0  01/07/2020  5.472,50  5.482,00  ...   5.324,50  75482557375,00    281.190\n",
              "1  30/06/2020  5.430,00  5.513,50  ...   5.463,00  89629807125,00    327.865\n",
              "2  29/06/2020  5.457,98  5.470,98  ...   5.407,00  73502699375,00    270.445\n",
              "3  26/06/2020  5.379,51  5.491,47  ...   5.482,97  91547204625,00    335.750\n",
              "4  25/06/2020  5.380,01  5.386,01  ...   5.354,52  92693603500,00    347.475\n",
              "\n",
              "[5 rows x 7 columns]"
            ]
          },
          "metadata": {
            "tags": []
          },
          "execution_count": 6
        }
      ]
    },
    {
      "cell_type": "code",
      "metadata": {
        "id": "EfO1oUqF386-",
        "colab_type": "code",
        "colab": {
          "base_uri": "https://localhost:8080/",
          "height": 204
        },
        "outputId": "171431f3-c703-4bc4-b1c0-a8457568d1c8"
      },
      "source": [
        "#verificando as cinco últimas linhas\n",
        "df.tail()"
      ],
      "execution_count": 7,
      "outputs": [
        {
          "output_type": "execute_result",
          "data": {
            "text/html": [
              "<div>\n",
              "<style scoped>\n",
              "    .dataframe tbody tr th:only-of-type {\n",
              "        vertical-align: middle;\n",
              "    }\n",
              "\n",
              "    .dataframe tbody tr th {\n",
              "        vertical-align: top;\n",
              "    }\n",
              "\n",
              "    .dataframe thead th {\n",
              "        text-align: right;\n",
              "    }\n",
              "</style>\n",
              "<table border=\"1\" class=\"dataframe\">\n",
              "  <thead>\n",
              "    <tr style=\"text-align: right;\">\n",
              "      <th></th>\n",
              "      <th>Data</th>\n",
              "      <th>Abertura</th>\n",
              "      <th>Maximo</th>\n",
              "      <th>Minimo</th>\n",
              "      <th>Fechamento</th>\n",
              "      <th>Volume</th>\n",
              "      <th>Quantidade</th>\n",
              "    </tr>\n",
              "  </thead>\n",
              "  <tbody>\n",
              "    <tr>\n",
              "      <th>489</th>\n",
              "      <td>06/07/2018</td>\n",
              "      <td>4.230,47</td>\n",
              "      <td>4.241,17</td>\n",
              "      <td>4.141,65</td>\n",
              "      <td>4.145,39</td>\n",
              "      <td>57975513125,00</td>\n",
              "      <td>295.260</td>\n",
              "    </tr>\n",
              "    <tr>\n",
              "      <th>490</th>\n",
              "      <td>05/07/2018</td>\n",
              "      <td>4.181,24</td>\n",
              "      <td>4.229,94</td>\n",
              "      <td>4.170,01</td>\n",
              "      <td>4.219,77</td>\n",
              "      <td>55301593750,00</td>\n",
              "      <td>281.415</td>\n",
              "    </tr>\n",
              "    <tr>\n",
              "      <th>491</th>\n",
              "      <td>04/07/2018</td>\n",
              "      <td>4.184,99</td>\n",
              "      <td>4.205,86</td>\n",
              "      <td>4.170,01</td>\n",
              "      <td>4.198,90</td>\n",
              "      <td>23385931750,00</td>\n",
              "      <td>119.425</td>\n",
              "    </tr>\n",
              "    <tr>\n",
              "      <th>492</th>\n",
              "      <td>03/07/2018</td>\n",
              "      <td>4.168,40</td>\n",
              "      <td>4.187,13</td>\n",
              "      <td>4.156,09</td>\n",
              "      <td>4.182,85</td>\n",
              "      <td>44688002250,00</td>\n",
              "      <td>229.095</td>\n",
              "    </tr>\n",
              "    <tr>\n",
              "      <th>493</th>\n",
              "      <td>02/07/2018</td>\n",
              "      <td>4.178,57</td>\n",
              "      <td>4.206,39</td>\n",
              "      <td>4.165,19</td>\n",
              "      <td>4.200,51</td>\n",
              "      <td>51178045625,00</td>\n",
              "      <td>261.370</td>\n",
              "    </tr>\n",
              "  </tbody>\n",
              "</table>\n",
              "</div>"
            ],
            "text/plain": [
              "           Data  Abertura    Maximo  ... Fechamento          Volume Quantidade\n",
              "489  06/07/2018  4.230,47  4.241,17  ...   4.145,39  57975513125,00    295.260\n",
              "490  05/07/2018  4.181,24  4.229,94  ...   4.219,77  55301593750,00    281.415\n",
              "491  04/07/2018  4.184,99  4.205,86  ...   4.198,90  23385931750,00    119.425\n",
              "492  03/07/2018  4.168,40  4.187,13  ...   4.182,85  44688002250,00    229.095\n",
              "493  02/07/2018  4.178,57  4.206,39  ...   4.200,51  51178045625,00    261.370\n",
              "\n",
              "[5 rows x 7 columns]"
            ]
          },
          "metadata": {
            "tags": []
          },
          "execution_count": 7
        }
      ]
    },
    {
      "cell_type": "markdown",
      "metadata": {
        "id": "q99PXH6-8kjf",
        "colab_type": "text"
      },
      "source": [
        "Temos uma tabela então com sete colunas diferentes, com diferentes tipos de variáveis.  "
      ]
    },
    {
      "cell_type": "code",
      "metadata": {
        "id": "BNPKk5DH4I8z",
        "colab_type": "code",
        "colab": {
          "base_uri": "https://localhost:8080/",
          "height": 68
        },
        "outputId": "d0c15957-273f-423e-c29c-a1b31555aa74"
      },
      "source": [
        "#verificando o nome das colunas\n",
        "df.columns"
      ],
      "execution_count": 8,
      "outputs": [
        {
          "output_type": "execute_result",
          "data": {
            "text/plain": [
              "Index(['Data', 'Abertura', 'Maximo', 'Minimo', 'Fechamento', 'Volume',\n",
              "       'Quantidade'],\n",
              "      dtype='object')"
            ]
          },
          "metadata": {
            "tags": []
          },
          "execution_count": 8
        }
      ]
    },
    {
      "cell_type": "code",
      "metadata": {
        "id": "MdO4xoqU4QZV",
        "colab_type": "code",
        "colab": {
          "base_uri": "https://localhost:8080/",
          "height": 153
        },
        "outputId": "b7527f91-bce7-4abe-c323-317bda6bcc12"
      },
      "source": [
        "#verificando o tipo das variáveis de cada coluna\n",
        "df.dtypes"
      ],
      "execution_count": 9,
      "outputs": [
        {
          "output_type": "execute_result",
          "data": {
            "text/plain": [
              "Data           object\n",
              "Abertura       object\n",
              "Maximo         object\n",
              "Minimo         object\n",
              "Fechamento     object\n",
              "Volume         object\n",
              "Quantidade    float64\n",
              "dtype: object"
            ]
          },
          "metadata": {
            "tags": []
          },
          "execution_count": 9
        }
      ]
    },
    {
      "cell_type": "code",
      "metadata": {
        "id": "nmn_ehOO4cWD",
        "colab_type": "code",
        "colab": {
          "base_uri": "https://localhost:8080/",
          "height": 255
        },
        "outputId": "3cafd603-d611-4e99-ac3f-5d025fba13c2"
      },
      "source": [
        "#verificando o tipo das variáveis e quantidade de valores nulos\n",
        "df.info()"
      ],
      "execution_count": 10,
      "outputs": [
        {
          "output_type": "stream",
          "text": [
            "<class 'pandas.core.frame.DataFrame'>\n",
            "RangeIndex: 494 entries, 0 to 493\n",
            "Data columns (total 7 columns):\n",
            " #   Column      Non-Null Count  Dtype  \n",
            "---  ------      --------------  -----  \n",
            " 0   Data        494 non-null    object \n",
            " 1   Abertura    494 non-null    object \n",
            " 2   Maximo      494 non-null    object \n",
            " 3   Minimo      494 non-null    object \n",
            " 4   Fechamento  494 non-null    object \n",
            " 5   Volume      494 non-null    object \n",
            " 6   Quantidade  494 non-null    float64\n",
            "dtypes: float64(1), object(6)\n",
            "memory usage: 27.1+ KB\n"
          ],
          "name": "stdout"
        }
      ]
    },
    {
      "cell_type": "markdown",
      "metadata": {
        "id": "OveNiFrJ9R2J",
        "colab_type": "text"
      },
      "source": [
        "Aqui encontramos algumas informações muito importantes para o andamento do trabalho. Observem que não existem valores nulos (`non-null`) em nenhuma das colunas.\n",
        "\n",
        "Outro ponto imporante é observar que as varíaveis, com exceção da `Quantidade`, são do tipo `Object`. No entanto, possuímos uma variável `Data` e as outras são numéricas; logo, será necessário realizar a conversão dessas variáveis para do tipo `Datetime` para a coluna Data e `Float` para as colunas com valores numéricos. "
      ]
    },
    {
      "cell_type": "markdown",
      "metadata": {
        "id": "8_BNDDWn5Qa8",
        "colab_type": "text"
      },
      "source": [
        "## **Conversão dos dados**\n",
        "\n",
        "A partir da observação dos tipos das variáveis nota-se que alguns dados estão em um formato que dificultará a exploração e analise. Por exemplo, a data é um `Object` e deveria ser do tipo `Date`; a abertura, a máxima, a mínima e o fechamento também estão aparecendo como `Object` e deveriam ser do tipo `float`. \n",
        "\n",
        "Faremos essas alterações utilizando a função `to_datetime` para data e o método `apply` para os dados numéricos."
      ]
    },
    {
      "cell_type": "markdown",
      "metadata": {
        "id": "dPwdDuGa7K0n",
        "colab_type": "text"
      },
      "source": [
        "### Transformando a coluna Data"
      ]
    },
    {
      "cell_type": "code",
      "metadata": {
        "id": "gkBDfbDr557G",
        "colab_type": "code",
        "colab": {
          "base_uri": "https://localhost:8080/",
          "height": 221
        },
        "outputId": "1076c507-e5c9-49ff-9292-db225f69fc84"
      },
      "source": [
        "#como está apresentado nossa coluna data\n",
        "df.Data"
      ],
      "execution_count": 11,
      "outputs": [
        {
          "output_type": "execute_result",
          "data": {
            "text/plain": [
              "0      01/07/2020\n",
              "1      30/06/2020\n",
              "2      29/06/2020\n",
              "3      26/06/2020\n",
              "4      25/06/2020\n",
              "          ...    \n",
              "489    06/07/2018\n",
              "490    05/07/2018\n",
              "491    04/07/2018\n",
              "492    03/07/2018\n",
              "493    02/07/2018\n",
              "Name: Data, Length: 494, dtype: object"
            ]
          },
          "metadata": {
            "tags": []
          },
          "execution_count": 11
        }
      ]
    },
    {
      "cell_type": "code",
      "metadata": {
        "id": "CqwajyHP6Bx_",
        "colab_type": "code",
        "colab": {}
      },
      "source": [
        "#realizando a transformação da nossa coluna data para o formato datetime\n",
        "df.Data = pd.to_datetime(df.Data, format=\"%d/%m/%Y\")"
      ],
      "execution_count": 12,
      "outputs": []
    },
    {
      "cell_type": "code",
      "metadata": {
        "id": "TF_mJ2Lo64HR",
        "colab_type": "code",
        "colab": {
          "base_uri": "https://localhost:8080/",
          "height": 221
        },
        "outputId": "d44dd205-c355-4a76-912a-c251b82a3c5c"
      },
      "source": [
        "#após a alteração dos valores veremos como ficou a nossa coluna\n",
        "df.Data"
      ],
      "execution_count": 13,
      "outputs": [
        {
          "output_type": "execute_result",
          "data": {
            "text/plain": [
              "0     2020-07-01\n",
              "1     2020-06-30\n",
              "2     2020-06-29\n",
              "3     2020-06-26\n",
              "4     2020-06-25\n",
              "         ...    \n",
              "489   2018-07-06\n",
              "490   2018-07-05\n",
              "491   2018-07-04\n",
              "492   2018-07-03\n",
              "493   2018-07-02\n",
              "Name: Data, Length: 494, dtype: datetime64[ns]"
            ]
          },
          "metadata": {
            "tags": []
          },
          "execution_count": 13
        }
      ]
    },
    {
      "cell_type": "markdown",
      "metadata": {
        "id": "DrbsjbnR7P_A",
        "colab_type": "text"
      },
      "source": [
        "### Transformando as colunas numéricas\n",
        "\n",
        "As colunas com valores numéricos teve a necessidade de um conjunto maior de transformação por conta da forma como os valores estavam sendo representados. Se observarmos a visualização das primeiras linhas veremos dados com valores assim: '5.230,00'. \n",
        "\n",
        "Para realizar a transformação para `float64` será necessário então transformar esses valores para o padrão americano de numeração e depois transformá-lo no formato desejado.\n",
        "\n",
        "Para isso, utilizaremos os métodos `apply` e `replace`, e a função `lambda`."
      ]
    },
    {
      "cell_type": "code",
      "metadata": {
        "id": "3qzdSlz6Q0fd",
        "colab_type": "code",
        "colab": {}
      },
      "source": [
        "#mudando o formato da coluna Abertura\n",
        "df['Abertura'] = df['Abertura'].apply(lambda x: float(x.replace('.','').replace(',','.')))"
      ],
      "execution_count": 14,
      "outputs": []
    },
    {
      "cell_type": "code",
      "metadata": {
        "id": "swgqMWNDRK0E",
        "colab_type": "code",
        "colab": {}
      },
      "source": [
        "# mudando o formato da coluna Maximo\n",
        "df['Maximo'] = df['Maximo'].apply(lambda x: float(x.replace('.','').replace(',','.')))"
      ],
      "execution_count": 15,
      "outputs": []
    },
    {
      "cell_type": "code",
      "metadata": {
        "id": "S7lFOE56RafW",
        "colab_type": "code",
        "colab": {}
      },
      "source": [
        "#mudando o formato da coluna Minimo\n",
        "df['Minimo'] = df['Minimo'].apply(lambda x: float(x.replace('.','').replace(',','.')))"
      ],
      "execution_count": 16,
      "outputs": []
    },
    {
      "cell_type": "code",
      "metadata": {
        "id": "hb6JscmTRotr",
        "colab_type": "code",
        "colab": {}
      },
      "source": [
        "#mudando o formato da coluna Fechamento\n",
        "df['Fechamento'] = df['Fechamento'].apply(lambda x: float(x.replace('.','').replace(',','.')))"
      ],
      "execution_count": 17,
      "outputs": []
    },
    {
      "cell_type": "code",
      "metadata": {
        "id": "gbTAhcW-R7ea",
        "colab_type": "code",
        "colab": {}
      },
      "source": [
        "#mudando o formato da coluna Volume\n",
        "df['Volume'] = df['Volume'].apply(lambda x: float(x.replace(',','.')))"
      ],
      "execution_count": 18,
      "outputs": []
    },
    {
      "cell_type": "code",
      "metadata": {
        "id": "qgxLU4_DSOt0",
        "colab_type": "code",
        "colab": {
          "base_uri": "https://localhost:8080/",
          "height": 204
        },
        "outputId": "6088c975-6233-4b96-ce70-f877b65250da"
      },
      "source": [
        "# agora vamos ver como ficou os nossos dados na tabela\n",
        "df.head()"
      ],
      "execution_count": 19,
      "outputs": [
        {
          "output_type": "execute_result",
          "data": {
            "text/html": [
              "<div>\n",
              "<style scoped>\n",
              "    .dataframe tbody tr th:only-of-type {\n",
              "        vertical-align: middle;\n",
              "    }\n",
              "\n",
              "    .dataframe tbody tr th {\n",
              "        vertical-align: top;\n",
              "    }\n",
              "\n",
              "    .dataframe thead th {\n",
              "        text-align: right;\n",
              "    }\n",
              "</style>\n",
              "<table border=\"1\" class=\"dataframe\">\n",
              "  <thead>\n",
              "    <tr style=\"text-align: right;\">\n",
              "      <th></th>\n",
              "      <th>Data</th>\n",
              "      <th>Abertura</th>\n",
              "      <th>Maximo</th>\n",
              "      <th>Minimo</th>\n",
              "      <th>Fechamento</th>\n",
              "      <th>Volume</th>\n",
              "      <th>Quantidade</th>\n",
              "    </tr>\n",
              "  </thead>\n",
              "  <tbody>\n",
              "    <tr>\n",
              "      <th>0</th>\n",
              "      <td>2020-07-01</td>\n",
              "      <td>5472.50</td>\n",
              "      <td>5482.00</td>\n",
              "      <td>5305.50</td>\n",
              "      <td>5324.50</td>\n",
              "      <td>7.548256e+10</td>\n",
              "      <td>281.190</td>\n",
              "    </tr>\n",
              "    <tr>\n",
              "      <th>1</th>\n",
              "      <td>2020-06-30</td>\n",
              "      <td>5430.00</td>\n",
              "      <td>5513.50</td>\n",
              "      <td>5410.50</td>\n",
              "      <td>5463.00</td>\n",
              "      <td>8.962981e+10</td>\n",
              "      <td>327.865</td>\n",
              "    </tr>\n",
              "    <tr>\n",
              "      <th>2</th>\n",
              "      <td>2020-06-29</td>\n",
              "      <td>5457.98</td>\n",
              "      <td>5470.98</td>\n",
              "      <td>5388.01</td>\n",
              "      <td>5407.00</td>\n",
              "      <td>7.350270e+10</td>\n",
              "      <td>270.445</td>\n",
              "    </tr>\n",
              "    <tr>\n",
              "      <th>3</th>\n",
              "      <td>2020-06-26</td>\n",
              "      <td>5379.51</td>\n",
              "      <td>5491.47</td>\n",
              "      <td>5366.52</td>\n",
              "      <td>5482.97</td>\n",
              "      <td>9.154720e+10</td>\n",
              "      <td>335.750</td>\n",
              "    </tr>\n",
              "    <tr>\n",
              "      <th>4</th>\n",
              "      <td>2020-06-25</td>\n",
              "      <td>5380.01</td>\n",
              "      <td>5386.01</td>\n",
              "      <td>5266.05</td>\n",
              "      <td>5354.52</td>\n",
              "      <td>9.269360e+10</td>\n",
              "      <td>347.475</td>\n",
              "    </tr>\n",
              "  </tbody>\n",
              "</table>\n",
              "</div>"
            ],
            "text/plain": [
              "        Data  Abertura   Maximo   Minimo  Fechamento        Volume  Quantidade\n",
              "0 2020-07-01   5472.50  5482.00  5305.50     5324.50  7.548256e+10     281.190\n",
              "1 2020-06-30   5430.00  5513.50  5410.50     5463.00  8.962981e+10     327.865\n",
              "2 2020-06-29   5457.98  5470.98  5388.01     5407.00  7.350270e+10     270.445\n",
              "3 2020-06-26   5379.51  5491.47  5366.52     5482.97  9.154720e+10     335.750\n",
              "4 2020-06-25   5380.01  5386.01  5266.05     5354.52  9.269360e+10     347.475"
            ]
          },
          "metadata": {
            "tags": []
          },
          "execution_count": 19
        }
      ]
    },
    {
      "cell_type": "code",
      "metadata": {
        "id": "uOAp7KeUS2SE",
        "colab_type": "code",
        "colab": {
          "base_uri": "https://localhost:8080/",
          "height": 153
        },
        "outputId": "a86d1b0b-5494-4d54-9a21-9e6500059433"
      },
      "source": [
        "#confirmação das alterações para os tipos\n",
        "df.dtypes"
      ],
      "execution_count": 20,
      "outputs": [
        {
          "output_type": "execute_result",
          "data": {
            "text/plain": [
              "Data          datetime64[ns]\n",
              "Abertura             float64\n",
              "Maximo               float64\n",
              "Minimo               float64\n",
              "Fechamento           float64\n",
              "Volume               float64\n",
              "Quantidade           float64\n",
              "dtype: object"
            ]
          },
          "metadata": {
            "tags": []
          },
          "execution_count": 20
        }
      ]
    },
    {
      "cell_type": "markdown",
      "metadata": {
        "id": "fIlfnjW8-6ao",
        "colab_type": "text"
      },
      "source": [
        "Bingo! Conseguimos então modificar os valores para os formatos corretos. Isso possibilita que possamos explorar e analisar esses dados, a partir de agora, de maneira mais acertiva. "
      ]
    },
    {
      "cell_type": "markdown",
      "metadata": {
        "id": "nYnw8mXO_UjI",
        "colab_type": "text"
      },
      "source": [
        "## Resumo estatístico das nossas variáveis numéricas\n",
        "\n",
        "Para sabermos mais informações sobre os valores encontrados no nosso banco de dados veremos um resumo estatístico das nossas variáveis numéricas usando o método `describe`."
      ]
    },
    {
      "cell_type": "code",
      "metadata": {
        "id": "m21GQFasUqsi",
        "colab_type": "code",
        "colab": {
          "base_uri": "https://localhost:8080/",
          "height": 297
        },
        "outputId": "188fca3a-6cd2-4383-9896-f134c55c8693"
      },
      "source": [
        "# ver o resumo estatístico das variáveis\n",
        "df[['Abertura','Maximo', 'Minimo', 'Fechamento', 'Volume', 'Quantidade']].describe()"
      ],
      "execution_count": 22,
      "outputs": [
        {
          "output_type": "execute_result",
          "data": {
            "text/html": [
              "<div>\n",
              "<style scoped>\n",
              "    .dataframe tbody tr th:only-of-type {\n",
              "        vertical-align: middle;\n",
              "    }\n",
              "\n",
              "    .dataframe tbody tr th {\n",
              "        vertical-align: top;\n",
              "    }\n",
              "\n",
              "    .dataframe thead th {\n",
              "        text-align: right;\n",
              "    }\n",
              "</style>\n",
              "<table border=\"1\" class=\"dataframe\">\n",
              "  <thead>\n",
              "    <tr style=\"text-align: right;\">\n",
              "      <th></th>\n",
              "      <th>Abertura</th>\n",
              "      <th>Maximo</th>\n",
              "      <th>Minimo</th>\n",
              "      <th>Fechamento</th>\n",
              "      <th>Volume</th>\n",
              "      <th>Quantidade</th>\n",
              "    </tr>\n",
              "  </thead>\n",
              "  <tbody>\n",
              "    <tr>\n",
              "      <th>count</th>\n",
              "      <td>494.000000</td>\n",
              "      <td>494.000000</td>\n",
              "      <td>494.000000</td>\n",
              "      <td>494.000000</td>\n",
              "      <td>4.940000e+02</td>\n",
              "      <td>494.000000</td>\n",
              "    </tr>\n",
              "    <tr>\n",
              "      <th>mean</th>\n",
              "      <td>4297.933462</td>\n",
              "      <td>4330.364757</td>\n",
              "      <td>4268.200769</td>\n",
              "      <td>4300.094069</td>\n",
              "      <td>7.671477e+10</td>\n",
              "      <td>367.728917</td>\n",
              "    </tr>\n",
              "    <tr>\n",
              "      <th>std</th>\n",
              "      <td>478.479249</td>\n",
              "      <td>490.848797</td>\n",
              "      <td>466.079956</td>\n",
              "      <td>479.409671</td>\n",
              "      <td>2.073024e+10</td>\n",
              "      <td>91.180761</td>\n",
              "    </tr>\n",
              "    <tr>\n",
              "      <th>min</th>\n",
              "      <td>3784.800000</td>\n",
              "      <td>3857.410000</td>\n",
              "      <td>3781.100000</td>\n",
              "      <td>3818.710000</td>\n",
              "      <td>2.338593e+10</td>\n",
              "      <td>118.285000</td>\n",
              "    </tr>\n",
              "    <tr>\n",
              "      <th>25%</th>\n",
              "      <td>4007.477500</td>\n",
              "      <td>4029.550000</td>\n",
              "      <td>3988.027500</td>\n",
              "      <td>4012.575000</td>\n",
              "      <td>6.329430e+10</td>\n",
              "      <td>307.083750</td>\n",
              "    </tr>\n",
              "    <tr>\n",
              "      <th>50%</th>\n",
              "      <td>4129.810000</td>\n",
              "      <td>4161.600000</td>\n",
              "      <td>4102.205000</td>\n",
              "      <td>4135.320000</td>\n",
              "      <td>7.407728e+10</td>\n",
              "      <td>359.432500</td>\n",
              "    </tr>\n",
              "    <tr>\n",
              "      <th>75%</th>\n",
              "      <td>4298.412500</td>\n",
              "      <td>4324.127500</td>\n",
              "      <td>4270.742500</td>\n",
              "      <td>4301.145000</td>\n",
              "      <td>8.769818e+10</td>\n",
              "      <td>412.435000</td>\n",
              "    </tr>\n",
              "    <tr>\n",
              "      <th>max</th>\n",
              "      <td>5936.770000</td>\n",
              "      <td>5986.340000</td>\n",
              "      <td>5832.610000</td>\n",
              "      <td>5903.720000</td>\n",
              "      <td>1.618007e+11</td>\n",
              "      <td>754.215000</td>\n",
              "    </tr>\n",
              "  </tbody>\n",
              "</table>\n",
              "</div>"
            ],
            "text/plain": [
              "          Abertura       Maximo  ...        Volume  Quantidade\n",
              "count   494.000000   494.000000  ...  4.940000e+02  494.000000\n",
              "mean   4297.933462  4330.364757  ...  7.671477e+10  367.728917\n",
              "std     478.479249   490.848797  ...  2.073024e+10   91.180761\n",
              "min    3784.800000  3857.410000  ...  2.338593e+10  118.285000\n",
              "25%    4007.477500  4029.550000  ...  6.329430e+10  307.083750\n",
              "50%    4129.810000  4161.600000  ...  7.407728e+10  359.432500\n",
              "75%    4298.412500  4324.127500  ...  8.769818e+10  412.435000\n",
              "max    5936.770000  5986.340000  ...  1.618007e+11  754.215000\n",
              "\n",
              "[8 rows x 6 columns]"
            ]
          },
          "metadata": {
            "tags": []
          },
          "execution_count": 22
        }
      ]
    },
    {
      "cell_type": "markdown",
      "metadata": {
        "id": "SQg0OBuQFsWE",
        "colab_type": "text"
      },
      "source": [
        "O resumo estatístico nos permite afirmar que os dados estão bem qualibrados, ou seja, não existem valores *outliers* para serem tratados."
      ]
    }
  ]
}