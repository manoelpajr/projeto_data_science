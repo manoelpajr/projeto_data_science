{
  "nbformat": 4,
  "nbformat_minor": 0,
  "metadata": {
    "colab": {
      "name": "proj_dol_resumo_estatistico.ipynb",
      "provenance": [],
      "authorship_tag": "ABX9TyMAUunvfguivwSgPubpQ6nc",
      "include_colab_link": true
    },
    "kernelspec": {
      "name": "python3",
      "display_name": "Python 3"
    }
  },
  "cells": [
    {
      "cell_type": "markdown",
      "metadata": {
        "id": "view-in-github",
        "colab_type": "text"
      },
      "source": [
        "<a href=\"https://colab.research.google.com/github/manoelpajr/projeto_data_science/blob/master/proj_dol_resumo_estatistico.ipynb\" target=\"_parent\"><img src=\"https://colab.research.google.com/assets/colab-badge.svg\" alt=\"Open In Colab\"/></a>"
      ]
    },
    {
      "cell_type": "markdown",
      "metadata": {
        "id": "loxfaKZsvxex",
        "colab_type": "text"
      },
      "source": [
        "#**Extraindo informaçõe estatística com o Pandas para o Projeto - Dólar Futuro**\n",
        "\n",
        "Iremos dar continuidade ao projeto **Dólar Futuro**. Nesse *notebook* iremos extrair algumas informações estatísticas referentes ao nosso *dataset*."
      ]
    },
    {
      "cell_type": "code",
      "metadata": {
        "id": "xugC2dyiTdFD",
        "colab_type": "code",
        "colab": {}
      },
      "source": [
        "#importação dos pacotes necessários\n",
        "import pandas as pd\n",
        "\n",
        "#importar o dataset\n",
        "df = pd.read_csv(\"https://raw.githubusercontent.com/manoelpajr/dataframes/master/DOLFUT_Diario.csv\", sep=';')"
      ],
      "execution_count": 2,
      "outputs": []
    },
    {
      "cell_type": "code",
      "metadata": {
        "id": "VkzC506IwunF",
        "colab_type": "code",
        "colab": {
          "base_uri": "https://localhost:8080/",
          "height": 204
        },
        "outputId": "10338bf6-7a79-43e0-9e17-22216debac8e"
      },
      "source": [
        "#visualiar as cinco primeiras entradas\n",
        "df.head()"
      ],
      "execution_count": 4,
      "outputs": [
        {
          "output_type": "execute_result",
          "data": {
            "text/html": [
              "<div>\n",
              "<style scoped>\n",
              "    .dataframe tbody tr th:only-of-type {\n",
              "        vertical-align: middle;\n",
              "    }\n",
              "\n",
              "    .dataframe tbody tr th {\n",
              "        vertical-align: top;\n",
              "    }\n",
              "\n",
              "    .dataframe thead th {\n",
              "        text-align: right;\n",
              "    }\n",
              "</style>\n",
              "<table border=\"1\" class=\"dataframe\">\n",
              "  <thead>\n",
              "    <tr style=\"text-align: right;\">\n",
              "      <th></th>\n",
              "      <th>Data</th>\n",
              "      <th>Abertura</th>\n",
              "      <th>Maximo</th>\n",
              "      <th>Minimo</th>\n",
              "      <th>Fechamento</th>\n",
              "      <th>Volume</th>\n",
              "      <th>Quantidade</th>\n",
              "    </tr>\n",
              "  </thead>\n",
              "  <tbody>\n",
              "    <tr>\n",
              "      <th>0</th>\n",
              "      <td>01/07/2020</td>\n",
              "      <td>5.472,50</td>\n",
              "      <td>5.482,00</td>\n",
              "      <td>5.305,50</td>\n",
              "      <td>5.324,50</td>\n",
              "      <td>75482557375,00</td>\n",
              "      <td>281.190</td>\n",
              "    </tr>\n",
              "    <tr>\n",
              "      <th>1</th>\n",
              "      <td>30/06/2020</td>\n",
              "      <td>5.430,00</td>\n",
              "      <td>5.513,50</td>\n",
              "      <td>5.410,50</td>\n",
              "      <td>5.463,00</td>\n",
              "      <td>89629807125,00</td>\n",
              "      <td>327.865</td>\n",
              "    </tr>\n",
              "    <tr>\n",
              "      <th>2</th>\n",
              "      <td>29/06/2020</td>\n",
              "      <td>5.457,98</td>\n",
              "      <td>5.470,98</td>\n",
              "      <td>5.388,01</td>\n",
              "      <td>5.407,00</td>\n",
              "      <td>73502699375,00</td>\n",
              "      <td>270.445</td>\n",
              "    </tr>\n",
              "    <tr>\n",
              "      <th>3</th>\n",
              "      <td>26/06/2020</td>\n",
              "      <td>5.379,51</td>\n",
              "      <td>5.491,47</td>\n",
              "      <td>5.366,52</td>\n",
              "      <td>5.482,97</td>\n",
              "      <td>91547204625,00</td>\n",
              "      <td>335.750</td>\n",
              "    </tr>\n",
              "    <tr>\n",
              "      <th>4</th>\n",
              "      <td>25/06/2020</td>\n",
              "      <td>5.380,01</td>\n",
              "      <td>5.386,01</td>\n",
              "      <td>5.266,05</td>\n",
              "      <td>5.354,52</td>\n",
              "      <td>92693603500,00</td>\n",
              "      <td>347.475</td>\n",
              "    </tr>\n",
              "  </tbody>\n",
              "</table>\n",
              "</div>"
            ],
            "text/plain": [
              "         Data  Abertura    Maximo  ... Fechamento          Volume Quantidade\n",
              "0  01/07/2020  5.472,50  5.482,00  ...   5.324,50  75482557375,00    281.190\n",
              "1  30/06/2020  5.430,00  5.513,50  ...   5.463,00  89629807125,00    327.865\n",
              "2  29/06/2020  5.457,98  5.470,98  ...   5.407,00  73502699375,00    270.445\n",
              "3  26/06/2020  5.379,51  5.491,47  ...   5.482,97  91547204625,00    335.750\n",
              "4  25/06/2020  5.380,01  5.386,01  ...   5.354,52  92693603500,00    347.475\n",
              "\n",
              "[5 rows x 7 columns]"
            ]
          },
          "metadata": {
            "tags": []
          },
          "execution_count": 4
        }
      ]
    },
    {
      "cell_type": "markdown",
      "metadata": {
        "id": "fNUcU2PAx3KR",
        "colab_type": "text"
      },
      "source": [
        "## **Conversão das variáveis**\n",
        "\n",
        "Sabemos que as variáveis de nosso *dataset* encontram-se todas, com exceção da coluna Volume, em formato `Str`. Como queremos manipular as camadas numéricas, devemos fazer as transformações necessárias para poder explorar e analisar cada uma delas."
      ]
    },
    {
      "cell_type": "code",
      "metadata": {
        "id": "jccKXA4kyNLP",
        "colab_type": "code",
        "colab": {
          "base_uri": "https://localhost:8080/",
          "height": 221
        },
        "outputId": "0091dd4c-51b2-428b-b46d-dd2ff866701f"
      },
      "source": [
        "#transformando a coluna Data para Datetime\n",
        "\n",
        "df.Data = pd.to_datetime(df.Data, format=\"%Y/%m?%d\")\n",
        "\n",
        "#visualizando a camada no formato Datetime\n",
        "df.Data"
      ],
      "execution_count": 8,
      "outputs": [
        {
          "output_type": "execute_result",
          "data": {
            "text/plain": [
              "0     2020-01-07\n",
              "1     2020-06-30\n",
              "2     2020-06-29\n",
              "3     2020-06-26\n",
              "4     2020-06-25\n",
              "         ...    \n",
              "489   2018-06-07\n",
              "490   2018-05-07\n",
              "491   2018-04-07\n",
              "492   2018-03-07\n",
              "493   2018-02-07\n",
              "Name: Data, Length: 494, dtype: datetime64[ns]"
            ]
          },
          "metadata": {
            "tags": []
          },
          "execution_count": 8
        }
      ]
    },
    {
      "cell_type": "code",
      "metadata": {
        "id": "jpn6ETaMzKLa",
        "colab_type": "code",
        "colab": {}
      },
      "source": [
        "#transformando as outras camadas numéricas para float\n",
        "#Abertura\n",
        "df['Abertura'] = df['Abertura'].apply(lambda x: float(x.replace('.','').replace(',','.')))"
      ],
      "execution_count": 9,
      "outputs": []
    },
    {
      "cell_type": "code",
      "metadata": {
        "id": "Jb5g79ZfzgW_",
        "colab_type": "code",
        "colab": {}
      },
      "source": [
        "#Maximo\n",
        "df['Maximo'] = df['Maximo'].apply(lambda x: float(x.replace('.', '').replace(',','.')))"
      ],
      "execution_count": 10,
      "outputs": []
    },
    {
      "cell_type": "code",
      "metadata": {
        "id": "CGAhQRYzzuaq",
        "colab_type": "code",
        "colab": {}
      },
      "source": [
        "#Minimo\n",
        "df['Minimo'] = df['Minimo'].apply(lambda x: float(x.replace('.','').replace(',','.')))"
      ],
      "execution_count": 12,
      "outputs": []
    },
    {
      "cell_type": "code",
      "metadata": {
        "id": "n_nhYpRM0CGR",
        "colab_type": "code",
        "colab": {}
      },
      "source": [
        "#Fechamento\n",
        "df['Fechamento'] = df['Fechamento'].apply(lambda x: float(x.replace('.','').replace(',','.')))"
      ],
      "execution_count": 13,
      "outputs": []
    },
    {
      "cell_type": "code",
      "metadata": {
        "id": "JBAryURy0QGw",
        "colab_type": "code",
        "colab": {}
      },
      "source": [
        "#Volume\n",
        "df['Volume'] = df['Volume'].apply(lambda x: float(x.replace(',','.')))"
      ],
      "execution_count": 14,
      "outputs": []
    },
    {
      "cell_type": "markdown",
      "metadata": {
        "id": "Y6deHwwG0aho",
        "colab_type": "text"
      },
      "source": [
        "Importante agora verificar se nossas colunas apresentam os formatdos desejados, para isso podemos utilizar o `type` ou o `info`."
      ]
    },
    {
      "cell_type": "code",
      "metadata": {
        "id": "6BqxOIXa0m3N",
        "colab_type": "code",
        "colab": {
          "base_uri": "https://localhost:8080/",
          "height": 153
        },
        "outputId": "e96db57c-2c2c-4ff1-9ab5-f85fb01dec08"
      },
      "source": [
        "#verificando o formato das nossas colunas\n",
        "df.dtypes"
      ],
      "execution_count": 18,
      "outputs": [
        {
          "output_type": "execute_result",
          "data": {
            "text/plain": [
              "Data          datetime64[ns]\n",
              "Abertura             float64\n",
              "Maximo               float64\n",
              "Minimo               float64\n",
              "Fechamento           float64\n",
              "Volume               float64\n",
              "Quantidade           float64\n",
              "dtype: object"
            ]
          },
          "metadata": {
            "tags": []
          },
          "execution_count": 18
        }
      ]
    },
    {
      "cell_type": "code",
      "metadata": {
        "id": "I_O5VuI70x0Y",
        "colab_type": "code",
        "colab": {
          "base_uri": "https://localhost:8080/",
          "height": 255
        },
        "outputId": "b1146d1d-0cbf-41ab-826f-70ab7f65454e"
      },
      "source": [
        "#verificando os tipos e os valores nulos\n",
        "df.info()"
      ],
      "execution_count": 20,
      "outputs": [
        {
          "output_type": "stream",
          "text": [
            "<class 'pandas.core.frame.DataFrame'>\n",
            "RangeIndex: 494 entries, 0 to 493\n",
            "Data columns (total 7 columns):\n",
            " #   Column      Non-Null Count  Dtype         \n",
            "---  ------      --------------  -----         \n",
            " 0   Data        494 non-null    datetime64[ns]\n",
            " 1   Abertura    494 non-null    float64       \n",
            " 2   Maximo      494 non-null    float64       \n",
            " 3   Minimo      494 non-null    float64       \n",
            " 4   Fechamento  494 non-null    float64       \n",
            " 5   Volume      494 non-null    float64       \n",
            " 6   Quantidade  494 non-null    float64       \n",
            "dtypes: datetime64[ns](1), float64(6)\n",
            "memory usage: 27.1 KB\n"
          ],
          "name": "stdout"
        }
      ]
    },
    {
      "cell_type": "markdown",
      "metadata": {
        "id": "AJqVCBOs046L",
        "colab_type": "text"
      },
      "source": [
        "Agora sabemos que as nossas colunas encontram-se no formato que queremos. Vamos então iniciar nosso resumo estatístico."
      ]
    },
    {
      "cell_type": "markdown",
      "metadata": {
        "id": "uc1gN-mGws11",
        "colab_type": "text"
      },
      "source": [
        "##**Resumo das informações estatística**\n",
        "\n",
        "Uma das maneiras mais simples de se iniciar uma análise exploratória das variáveis numéricas é utilizado o método `describe`. Imediatamente você obtém um resumo contendo algumas das principais informações estatísticas relevantes:\n",
        "\n",
        "   *   **count** - quantidade de entradas válidas\n",
        "   *   **mean** - média dos valores\n",
        "   *   **std** - desvio padrão\n",
        "   *   **min** - menor valor da coluna\n",
        "   *   **25%** - percentil 25\n",
        "   *   **50%** -percential 50 (e mediana)\n",
        "   *   **75%** - percentil 75\n",
        "   *   **max** - maior valor da coluna\n",
        "\n",
        "É possível identificar de cara colunas com valores ausentes e possíveis *outliers*.\n"
      ]
    },
    {
      "cell_type": "code",
      "metadata": {
        "id": "SEDWlMRH1D8v",
        "colab_type": "code",
        "colab": {
          "base_uri": "https://localhost:8080/",
          "height": 297
        },
        "outputId": "62e0c09c-e6fe-4015-9252-6cbdb81b0879"
      },
      "source": [
        "#visualiar o resumo estatístico\n",
        "df.describe()"
      ],
      "execution_count": 21,
      "outputs": [
        {
          "output_type": "execute_result",
          "data": {
            "text/html": [
              "<div>\n",
              "<style scoped>\n",
              "    .dataframe tbody tr th:only-of-type {\n",
              "        vertical-align: middle;\n",
              "    }\n",
              "\n",
              "    .dataframe tbody tr th {\n",
              "        vertical-align: top;\n",
              "    }\n",
              "\n",
              "    .dataframe thead th {\n",
              "        text-align: right;\n",
              "    }\n",
              "</style>\n",
              "<table border=\"1\" class=\"dataframe\">\n",
              "  <thead>\n",
              "    <tr style=\"text-align: right;\">\n",
              "      <th></th>\n",
              "      <th>Abertura</th>\n",
              "      <th>Maximo</th>\n",
              "      <th>Minimo</th>\n",
              "      <th>Fechamento</th>\n",
              "      <th>Volume</th>\n",
              "      <th>Quantidade</th>\n",
              "    </tr>\n",
              "  </thead>\n",
              "  <tbody>\n",
              "    <tr>\n",
              "      <th>count</th>\n",
              "      <td>494.000000</td>\n",
              "      <td>494.000000</td>\n",
              "      <td>494.000000</td>\n",
              "      <td>494.000000</td>\n",
              "      <td>4.940000e+02</td>\n",
              "      <td>494.000000</td>\n",
              "    </tr>\n",
              "    <tr>\n",
              "      <th>mean</th>\n",
              "      <td>4297.933462</td>\n",
              "      <td>4330.364757</td>\n",
              "      <td>4268.200769</td>\n",
              "      <td>4300.094069</td>\n",
              "      <td>7.671477e+10</td>\n",
              "      <td>367.728917</td>\n",
              "    </tr>\n",
              "    <tr>\n",
              "      <th>std</th>\n",
              "      <td>478.479249</td>\n",
              "      <td>490.848797</td>\n",
              "      <td>466.079956</td>\n",
              "      <td>479.409671</td>\n",
              "      <td>2.073024e+10</td>\n",
              "      <td>91.180761</td>\n",
              "    </tr>\n",
              "    <tr>\n",
              "      <th>min</th>\n",
              "      <td>3784.800000</td>\n",
              "      <td>3857.410000</td>\n",
              "      <td>3781.100000</td>\n",
              "      <td>3818.710000</td>\n",
              "      <td>2.338593e+10</td>\n",
              "      <td>118.285000</td>\n",
              "    </tr>\n",
              "    <tr>\n",
              "      <th>25%</th>\n",
              "      <td>4007.477500</td>\n",
              "      <td>4029.550000</td>\n",
              "      <td>3988.027500</td>\n",
              "      <td>4012.575000</td>\n",
              "      <td>6.329430e+10</td>\n",
              "      <td>307.083750</td>\n",
              "    </tr>\n",
              "    <tr>\n",
              "      <th>50%</th>\n",
              "      <td>4129.810000</td>\n",
              "      <td>4161.600000</td>\n",
              "      <td>4102.205000</td>\n",
              "      <td>4135.320000</td>\n",
              "      <td>7.407728e+10</td>\n",
              "      <td>359.432500</td>\n",
              "    </tr>\n",
              "    <tr>\n",
              "      <th>75%</th>\n",
              "      <td>4298.412500</td>\n",
              "      <td>4324.127500</td>\n",
              "      <td>4270.742500</td>\n",
              "      <td>4301.145000</td>\n",
              "      <td>8.769818e+10</td>\n",
              "      <td>412.435000</td>\n",
              "    </tr>\n",
              "    <tr>\n",
              "      <th>max</th>\n",
              "      <td>5936.770000</td>\n",
              "      <td>5986.340000</td>\n",
              "      <td>5832.610000</td>\n",
              "      <td>5903.720000</td>\n",
              "      <td>1.618007e+11</td>\n",
              "      <td>754.215000</td>\n",
              "    </tr>\n",
              "  </tbody>\n",
              "</table>\n",
              "</div>"
            ],
            "text/plain": [
              "          Abertura       Maximo  ...        Volume  Quantidade\n",
              "count   494.000000   494.000000  ...  4.940000e+02  494.000000\n",
              "mean   4297.933462  4330.364757  ...  7.671477e+10  367.728917\n",
              "std     478.479249   490.848797  ...  2.073024e+10   91.180761\n",
              "min    3784.800000  3857.410000  ...  2.338593e+10  118.285000\n",
              "25%    4007.477500  4029.550000  ...  6.329430e+10  307.083750\n",
              "50%    4129.810000  4161.600000  ...  7.407728e+10  359.432500\n",
              "75%    4298.412500  4324.127500  ...  8.769818e+10  412.435000\n",
              "max    5936.770000  5986.340000  ...  1.618007e+11  754.215000\n",
              "\n",
              "[8 rows x 6 columns]"
            ]
          },
          "metadata": {
            "tags": []
          },
          "execution_count": 21
        }
      ]
    },
    {
      "cell_type": "markdown",
      "metadata": {
        "id": "bLaJ3E6s1Svi",
        "colab_type": "text"
      },
      "source": [
        "###**Média**\n",
        "\n",
        "Se quisermos obter a média de alguma variável numérica, basta executar o método `mean()`. OU seja, basta selecionar a columa e executar a função."
      ]
    },
    {
      "cell_type": "code",
      "metadata": {
        "id": "2IC1fczB1fqC",
        "colab_type": "code",
        "colab": {
          "base_uri": "https://localhost:8080/",
          "height": 34
        },
        "outputId": "c38bd8cb-20aa-48b5-ad05-8d155765d4b5"
      },
      "source": [
        "#ver a média da coluna Abertura\n",
        "df.Abertura.mean()"
      ],
      "execution_count": 22,
      "outputs": [
        {
          "output_type": "execute_result",
          "data": {
            "text/plain": [
              "4297.933461538469"
            ]
          },
          "metadata": {
            "tags": []
          },
          "execution_count": 22
        }
      ]
    },
    {
      "cell_type": "markdown",
      "metadata": {
        "id": "oS_ndOY66tja",
        "colab_type": "text"
      },
      "source": [
        "###**Mediana**\n",
        "\n",
        "Mediana é o valor que separa a metade maior e a metade menor de um conjunto de dados. Por exemplo, considere o conjunto `meus_dados = [1,1,2,4,9]`. O valor que está no meio é o número 2. Não confunda com a média, que é a soma de todos os valores dividido pela sua quantidade."
      ]
    },
    {
      "cell_type": "code",
      "metadata": {
        "id": "RoHT83jB7F44",
        "colab_type": "code",
        "colab": {
          "base_uri": "https://localhost:8080/",
          "height": 34
        },
        "outputId": "a44e9f99-141b-4720-e9e8-41947037a3fe"
      },
      "source": [
        "#calcular a mediana da Abertura\n",
        "df.Abertura.median()"
      ],
      "execution_count": 23,
      "outputs": [
        {
          "output_type": "execute_result",
          "data": {
            "text/plain": [
              "4129.81"
            ]
          },
          "metadata": {
            "tags": []
          },
          "execution_count": 23
        }
      ]
    },
    {
      "cell_type": "markdown",
      "metadata": {
        "id": "V-wH8f7p8uPQ",
        "colab_type": "text"
      },
      "source": [
        "###**Desvio Padrão**\n",
        "\n",
        "Desvio padrão é uma medida de dispersão em torno da média populacional de uma variável.\n",
        "\n",
        "$$SD = \\sqrt{\\frac{1}{n}\\sum_{i=1}^{n}(x_i - \\overline{x}) ^ 2}$$\n",
        "\n",
        "Falando simplicadamente, um número alto do desvio padrão indica que os dados estão bem espalhados em relação a sua média. Já um desvio padrão baixo mostra que os valores estão mais agrupado, mais \"juntos\".\n",
        "\n",
        "Na figura abaixo temos um exemplo de valores altos e baixos para o desvio padrão. Em vermelho os dados estão mais próximos à sua média e em azul estão bem mais espalhados.\n",
        "\n",
        "<img src=\"https://upload.wikimedia.org/wikipedia/commons/thumb/f/f9/Comparison_standard_deviations.svg/400px-Comparison_standard_deviations.svg.png\">\n",
        "\n",
        "Para calcular o desvio padrão de qualquer coluna, basta executar o método `std()` para a variável.\n"
      ]
    },
    {
      "cell_type": "code",
      "metadata": {
        "id": "XiwdTKp39yEq",
        "colab_type": "code",
        "colab": {
          "base_uri": "https://localhost:8080/",
          "height": 34
        },
        "outputId": "35d47991-8c0d-4411-e197-31f2926fc072"
      },
      "source": [
        "#calculando o desvio padrão para a coluna Abertura\n",
        "df.Abertura.std()"
      ],
      "execution_count": 24,
      "outputs": [
        {
          "output_type": "execute_result",
          "data": {
            "text/plain": [
              "478.47924895600516"
            ]
          },
          "metadata": {
            "tags": []
          },
          "execution_count": 24
        }
      ]
    },
    {
      "cell_type": "markdown",
      "metadata": {
        "id": "eCP1NQ-k-Iir",
        "colab_type": "text"
      },
      "source": [
        "###**Valores máximo e mínimo**\n",
        "\n",
        "Para calcular o valor máximo, basta executar  o método `max()`, enquanto para o valor mínimo basta executar `min()`."
      ]
    },
    {
      "cell_type": "code",
      "metadata": {
        "id": "pOV3taOT-c2v",
        "colab_type": "code",
        "colab": {
          "base_uri": "https://localhost:8080/",
          "height": 34
        },
        "outputId": "2e25c348-0908-4d9e-d7a2-c3a29c68155a"
      },
      "source": [
        "#valor maximo\n",
        "df.Abertura.max()"
      ],
      "execution_count": 25,
      "outputs": [
        {
          "output_type": "execute_result",
          "data": {
            "text/plain": [
              "5936.77"
            ]
          },
          "metadata": {
            "tags": []
          },
          "execution_count": 25
        }
      ]
    },
    {
      "cell_type": "code",
      "metadata": {
        "id": "vH0vcI1F-g5b",
        "colab_type": "code",
        "colab": {
          "base_uri": "https://localhost:8080/",
          "height": 34
        },
        "outputId": "b8dc7823-5d87-4342-c4eb-12bc01d7970a"
      },
      "source": [
        "#valor minimo\n",
        "df.Abertura.min()"
      ],
      "execution_count": 26,
      "outputs": [
        {
          "output_type": "execute_result",
          "data": {
            "text/plain": [
              "3784.8"
            ]
          },
          "metadata": {
            "tags": []
          },
          "execution_count": 26
        }
      ]
    },
    {
      "cell_type": "markdown",
      "metadata": {
        "id": "KyMGeKml-lZU",
        "colab_type": "text"
      },
      "source": [
        "###**Quartis**\n",
        "\n",
        "Os quartis são valores dados a partir do conjunto de observaçoes ordenados em ordem crescente, que dividem a distruibuição em quatro partes iguais. O primeiro Quartil (Q1), é o número que deixa 25% das observações abaixo e 75% acima, enquanto o terceiro Quartil (Q3), deixa 75% das observações abaixo e 25% acima. Já o segundo Quartil (Q2), é a mediana, deixa 50% das observações abaixo e 50% das observações acima. \n",
        "\n",
        "Uma medida de dispersão alternativa ao desvio padrão é a distância ou intervalo interquartil, definida como a diferença entre o terceiro e o primeiro quartil, isto é,\n",
        "\n",
        "*inter_interquartil = Q3 - Q1*\n",
        "\n",
        "Foi desenvolvido no âmbito da estatística a fim de avaliar o grau de espalhamento dos dados (dispersão) e é uma excelente forma de acharmos valores *outliers*.\n",
        "\n",
        "Para visualizarmos os quartis iremos utilizar o método `quantile(q=0.25)` para o primeiro quartil. Para o Q2 utiliza-se `q=0.5` e para o Q3 `q=0.75`."
      ]
    },
    {
      "cell_type": "code",
      "metadata": {
        "id": "aTYk2fjfAj7j",
        "colab_type": "code",
        "colab": {
          "base_uri": "https://localhost:8080/",
          "height": 34
        },
        "outputId": "828dd243-784a-4ae4-d24d-7b5e18293c0d"
      },
      "source": [
        "#calculando os quartis para a coluna abertura\n",
        "#Q1\n",
        "df.Abertura.quantile(q=0.25)"
      ],
      "execution_count": 27,
      "outputs": [
        {
          "output_type": "execute_result",
          "data": {
            "text/plain": [
              "4007.4775"
            ]
          },
          "metadata": {
            "tags": []
          },
          "execution_count": 27
        }
      ]
    },
    {
      "cell_type": "code",
      "metadata": {
        "id": "gEj_5PqGAulS",
        "colab_type": "code",
        "colab": {
          "base_uri": "https://localhost:8080/",
          "height": 34
        },
        "outputId": "fecea509-c8fc-46d4-9689-689f3a19e4a2"
      },
      "source": [
        "#Q2\n",
        "df.Abertura.quantile(q=0.5)"
      ],
      "execution_count": 28,
      "outputs": [
        {
          "output_type": "execute_result",
          "data": {
            "text/plain": [
              "4129.81"
            ]
          },
          "metadata": {
            "tags": []
          },
          "execution_count": 28
        }
      ]
    },
    {
      "cell_type": "code",
      "metadata": {
        "id": "vbQoFPz1A0Et",
        "colab_type": "code",
        "colab": {
          "base_uri": "https://localhost:8080/",
          "height": 34
        },
        "outputId": "b1ebbc27-baeb-4657-e430-7d9a832d9127"
      },
      "source": [
        "#Q3 \n",
        "df.Abertura.quantile(q=0.75)"
      ],
      "execution_count": 29,
      "outputs": [
        {
          "output_type": "execute_result",
          "data": {
            "text/plain": [
              "4298.412499999999"
            ]
          },
          "metadata": {
            "tags": []
          },
          "execution_count": 29
        }
      ]
    },
    {
      "cell_type": "code",
      "metadata": {
        "id": "juxlw8JCA6fK",
        "colab_type": "code",
        "colab": {
          "base_uri": "https://localhost:8080/",
          "height": 34
        },
        "outputId": "b056d217-9d08-4ab6-f784-2f31d9e197ee"
      },
      "source": [
        "#Intervalo interquartil\n",
        "inter_interquartil = df.Abertura.quantile(q=0.75) - df.Abertura.quantile(q=0.25)\n",
        "inter_interquartil"
      ],
      "execution_count": 34,
      "outputs": [
        {
          "output_type": "execute_result",
          "data": {
            "text/plain": [
              "290.9349999999995"
            ]
          },
          "metadata": {
            "tags": []
          },
          "execution_count": 34
        }
      ]
    }
  ]
}